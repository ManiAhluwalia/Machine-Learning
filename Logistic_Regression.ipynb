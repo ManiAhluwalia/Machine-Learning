{
  "nbformat": 4,
  "nbformat_minor": 0,
  "metadata": {
    "colab": {
      "provenance": []
    },
    "kernelspec": {
      "name": "python3",
      "display_name": "Python 3"
    },
    "language_info": {
      "name": "python"
    }
  },
  "cells": [
    {
      "cell_type": "markdown",
      "source": [
        "#***Theoretical***"
      ],
      "metadata": {
        "id": "l7JriMfmNjWv"
      }
    },
    {
      "cell_type": "markdown",
      "source": [
        "###1. What is Logistic Regression, and how does it differ from Linear Regression?"
      ],
      "metadata": {
        "id": "ioHisfteNyFj"
      }
    },
    {
      "cell_type": "markdown",
      "source": [
        "Logistic Regression is a statistical method used for binary classification problems, where the output variable can take only two possible values, such as Yes/No, Spam/Not Spam, Default/No Default, etc.\n",
        "\n",
        "Instead of predicting a continuous value like Linear Regression, Logistic Regression estimates the probability that a given input belongs to a particular class.\n",
        "\n",
        "It uses the sigmoid (logistic) function to map any real-valued number into the range [0,1], making it suitable for probability-based classification.\n",
        "\n",
        "**Linear Regression**\n",
        "\n",
        "Type of Problem:- Regression (continuous output)\n",
        "\n",
        "Output Values:- Any real number (-∞, +∞)\n",
        "\n",
        "Prediction:- Continuous values\n",
        "\n",
        "Loss Function:- Mean Squared Error (MSE)\n",
        "\n",
        "Decision Boundary:- Not applicable\n",
        "\n",
        "**Logistic Regression**\n",
        "\n",
        "Type of Problem:- Classification (discrete output)\n",
        "\n",
        "Output Values:- Probability range (0 to 1)\n",
        "\n",
        "Prediction:- Probability mapped to class labels (0 or 1)\n",
        "\n",
        "Loss Function:- Log-Loss (Binary Cross-Entropy)\n",
        "\n",
        "Decision Boundary:- Uses a threshold (e.g., p≥0.5)\n",
        "\n",
        "\n",
        "\n",
        "\n",
        "\n",
        "\n",
        "\n",
        "\n"
      ],
      "metadata": {
        "id": "fZn-gGDlN_Fm"
      }
    },
    {
      "cell_type": "markdown",
      "source": [
        "###2. What is the mathematical equation of Logistic Regression?"
      ],
      "metadata": {
        "id": "FkzPbkAkSGVY"
      }
    },
    {
      "cell_type": "markdown",
      "source": [
        "The mathematical equation of Logistic Regression is based on the sigmoid function (also called the logistic function) that maps any real-valued number into the range [0,1], making it suitable for probability estimation.\n",
        "\n",
        "p= 1/\n",
        "1+e\n",
        "−(b\n",
        "0\n",
        "​\n",
        " +b\n",
        "1\n",
        "​\n",
        " x\n",
        "1\n",
        "​\n",
        " +b\n",
        "2\n",
        "​\n",
        " x\n",
        "2\n",
        "​\n",
        " +...+b\n",
        "n\n",
        "​\n",
        " x\n",
        "n\n",
        "​\n",
        " )\n",
        "\n",
        "Where:\n",
        "\n",
        "p = Predicted probability of the class (usually class 1)\n",
        "\n",
        "b\n",
        "0\n",
        "​\n",
        "  = Intercept (bias term)\n",
        "\n",
        "b\n",
        "1\n",
        "​\n",
        " ,b\n",
        "2\n",
        "​\n",
        " ,...,b\n",
        "n\n",
        "​\n",
        "  = Coefficients (weights) of the features\n",
        "\n",
        "x\n",
        "1\n",
        "​\n",
        " ,x\n",
        "2\n",
        "​\n",
        " ,...,x\n",
        "n\n",
        "​\n",
        "  = Feature values\n",
        "\n",
        "e = Euler’s number (~2.718)"
      ],
      "metadata": {
        "id": "xp01m9orSIbN"
      }
    },
    {
      "cell_type": "markdown",
      "source": [
        "###3. Why do we use the Sigmoid function in Logistic Regression?"
      ],
      "metadata": {
        "id": "JCoCh3YjS_l5"
      }
    },
    {
      "cell_type": "markdown",
      "source": [
        "The sigmoid function (also called the logistic function) is used in Logistic Regression because it maps any real-valued input to a probability between 0 and 1, making it ideal for classification problems.\n",
        "\n",
        "The Sigmoid Function:\n",
        "\n",
        "σ(z)= 1/\n",
        "1+e\n",
        "−z\n",
        "\n",
        "\n",
        "Why is the Sigmoid Function Used?\n",
        "(a) Converts Any Real Value into a Probability\n",
        "Linear Regression can produce outputs from\n",
        "−\n",
        "∞\n",
        "−∞ to\n",
        "+\n",
        "∞\n",
        "+∞, which are not suitable for classification.\n",
        "Sigmoid function maps outputs to (0,1), making them interpretable as probabilities.\n",
        "(b) Helps in Binary Classification\n",
        "The sigmoid function outputs a probability:\n",
        "If\n",
        "𝜎\n",
        "(\n",
        "𝑧\n",
        ")\n",
        "≥\n",
        "0.5\n",
        "σ(z)≥0.5, we classify as 1 (positive class).\n",
        "If\n",
        "𝜎\n",
        "(\n",
        "𝑧\n",
        ")\n",
        "<\n",
        "0.5\n",
        "σ(z)<0.5, we classify as 0 (negative class).\n",
        "(c) Provides a Smooth and Differentiable Function\n",
        "The function is continuous and has a smooth gradient, which helps in optimization using Gradient Descent.\n",
        "(d) Relates to Log-Odds (Logit Function)\n",
        "Logistic Regression can also be written in terms of log-odds:\n",
        "log\n",
        "⁡\n",
        "(\n",
        "𝑝\n",
        "1\n",
        "−\n",
        "𝑝\n",
        ")\n",
        "=\n",
        "𝑏\n",
        "0\n",
        "+\n",
        "𝑏\n",
        "1\n",
        "𝑥\n",
        "1\n",
        "+\n",
        ".\n",
        ".\n",
        ".\n",
        "+\n",
        "𝑏\n",
        "𝑛\n",
        "𝑥\n",
        "𝑛\n",
        "log(\n",
        "1−p\n",
        "p\n",
        "​\n",
        " )=b\n",
        "0\n",
        "​\n",
        " +b\n",
        "1\n",
        "​\n",
        " x\n",
        "1\n",
        "​\n",
        " +...+b\n",
        "n\n",
        "​\n",
        " x\n",
        "n\n",
        "​\n",
        "\n",
        "Taking the inverse of the log-odds gives the sigmoid function.\n",
        "(e) Avoids Extreme Predictions\n",
        "Unlike a linear model, which can predict extreme values, sigmoid ensures predictions stay within\n",
        "[\n",
        "0\n",
        ",\n",
        "1\n",
        "]\n",
        "[0,1].\n",
        "3. Sigmoid Function Graph\n",
        "When\n",
        "𝑧\n",
        "=\n",
        "0\n",
        "z=0, the sigmoid function outputs 0.5.\n",
        "As\n",
        "𝑧\n",
        "→\n",
        "+\n",
        "∞\n",
        "z→+∞,\n",
        "𝜎\n",
        "(\n",
        "𝑧\n",
        ")\n",
        "→\n",
        "1\n",
        "σ(z)→1 (confident positive class).\n",
        "As\n",
        "𝑧\n",
        "→\n",
        "−\n",
        "∞\n",
        "z→−∞,\n",
        "𝜎\n",
        "(\n",
        "𝑧\n",
        ")\n",
        "→\n",
        "0\n",
        "σ(z)→0 (confident negative class)."
      ],
      "metadata": {
        "id": "8yobnOFlTFeN"
      }
    },
    {
      "cell_type": "markdown",
      "source": [
        "###4. What is the cost function of Logistic Regression?"
      ],
      "metadata": {
        "id": "FYfmnAx-UJAO"
      }
    },
    {
      "cell_type": "markdown",
      "source": [
        "In Logistic Regression, we use the Log-Loss (Binary Cross-Entropy) as the cost function. This is because the usual Mean Squared Error (MSE) used in Linear Regression is not suitable for classification.\n",
        "\n",
        "Why Not Use Mean Squared Error (MSE)?\n",
        "\n",
        "MSE creates a non-convex cost function for Logistic Regression, which can result in multiple local minima, making optimization difficult.\n",
        "The log-loss function ensures a convex cost function, which allows efficient optimization using Gradient Descent.\n",
        "\n",
        " Intuition Behind Log-Loss\n",
        "\n",
        "\n",
        "If\n",
        "𝑦\n",
        "=\n",
        "1\n",
        "y=1 (positive class), the loss becomes:\n",
        "\n",
        "𝐿\n",
        "=\n",
        "−\n",
        "log\n",
        "⁡\n",
        "(\n",
        "𝑝\n",
        ")\n",
        "L=−log(p)\n",
        "If\n",
        "𝑝\n",
        "p is close to 1 (correct prediction), loss is small.\n",
        "If\n",
        "𝑝\n",
        "p is close to 0 (wrong prediction), loss is large.\n",
        "If\n",
        "𝑦\n",
        "=\n",
        "0\n",
        "y=0 (negative class), the loss becomes:\n",
        "\n",
        "𝐿\n",
        "=\n",
        "−\n",
        "log\n",
        "⁡\n",
        "(\n",
        "1\n",
        "−\n",
        "𝑝\n",
        ")\n",
        "L=−log(1−p)\n",
        "If\n",
        "𝑝\n",
        "p is close to 0 (correct prediction), loss is small.\n",
        "If\n",
        "𝑝\n",
        "p is close to 1 (wrong prediction), loss is large.\n"
      ],
      "metadata": {
        "id": "Y1AD2e8RUYM7"
      }
    },
    {
      "cell_type": "markdown",
      "source": [
        "###5. What is Regularization in Logistic Regression? Why is it needed?"
      ],
      "metadata": {
        "id": "PIbIZq8uUpms"
      }
    },
    {
      "cell_type": "markdown",
      "source": [
        "Regularization is a technique used to prevent overfitting in Logistic Regression (and other machine learning models) by adding a penalty term to the cost function. This discourages the model from relying too much on any particular feature, ensuring better generalization to unseen data.\n",
        "\n",
        "Overfitting: If the Logistic Regression model has too many features or is trained on noisy data, it may memorize the training data instead of learning the general pattern.\n",
        "\n",
        "Large Coefficients: Overfitting occurs when some feature weights (θ) become too large, making the model too sensitive to small variations in input data.\n",
        "\n",
        "Regularization reduces the magnitude of these coefficients, making the model simpler and more robust.\n",
        "\n"
      ],
      "metadata": {
        "id": "948NQ2eQUw7v"
      }
    },
    {
      "cell_type": "markdown",
      "source": [
        "###6. Explain the difference between Lasso, Ridge, and Elastic Net regression?"
      ],
      "metadata": {
        "id": "XFlbnviSVIm_"
      }
    },
    {
      "cell_type": "markdown",
      "source": [
        "Lasso, Ridge, and Elastic Net are types of regularization techniques used in regression models to prevent overfitting by adding a penalty term to the cost function. They primarily differ in how they apply the penalty to the regression coefficients.\n",
        "\n",
        "Ridge Regression (L2 Regularization)\n",
        "𝐽\n",
        "(\n",
        "𝜃\n",
        ")\n",
        "=\n",
        "∑\n",
        "𝑖\n",
        "=\n",
        "1\n",
        "𝑚\n",
        "(\n",
        "𝑦\n",
        "𝑖\n",
        "−\n",
        "𝑦\n",
        "^\n",
        "𝑖\n",
        ")\n",
        "2\n",
        "+\n",
        "𝜆\n",
        "∑\n",
        "𝑗\n",
        "=\n",
        "1\n",
        "𝑛\n",
        "𝜃\n",
        "𝑗\n",
        "2\n",
        "J(θ)=\n",
        "i=1\n",
        "∑\n",
        "m\n",
        "​\n",
        " (y\n",
        "i\n",
        "​\n",
        " −\n",
        "y\n",
        "^\n",
        "​\n",
        "  \n",
        "i\n",
        "​\n",
        " )\n",
        "2\n",
        " +λ\n",
        "j=1\n",
        "∑\n",
        "n\n",
        "​\n",
        " θ\n",
        "j\n",
        "2\n",
        "​\n",
        "\n",
        "Key Features:\n",
        "Adds an L2 penalty → Sum of squared coefficients (\n",
        "∑\n",
        "𝜃\n",
        "𝑗\n",
        "2\n",
        "∑θ\n",
        "j\n",
        "2\n",
        "​\n",
        " ).\n",
        "Shrinks coefficients towards zero but never makes them exactly zero.\n",
        "Keeps all features in the model, but with smaller weights.\n",
        "Works well when all features are important but need to be regularized.\n",
        "\n",
        "Lasso Regression (L1 Regularization)\n",
        "𝐽\n",
        "(\n",
        "𝜃\n",
        ")\n",
        "=\n",
        "∑\n",
        "𝑖\n",
        "=\n",
        "1\n",
        "𝑚\n",
        "(\n",
        "𝑦\n",
        "𝑖\n",
        "−\n",
        "𝑦\n",
        "^\n",
        "𝑖\n",
        ")\n",
        "2\n",
        "+\n",
        "𝜆\n",
        "∑\n",
        "𝑗\n",
        "=\n",
        "1\n",
        "𝑛\n",
        "∣\n",
        "𝜃\n",
        "𝑗\n",
        "∣\n",
        "J(θ)=\n",
        "i=1\n",
        "∑\n",
        "m\n",
        "​\n",
        " (y\n",
        "i\n",
        "​\n",
        " −\n",
        "y\n",
        "^\n",
        "​\n",
        "  \n",
        "i\n",
        "​\n",
        " )\n",
        "2\n",
        " +λ\n",
        "j=1\n",
        "∑\n",
        "n\n",
        "​\n",
        " ∣θ\n",
        "j\n",
        "​\n",
        " ∣\n",
        "Key Features:\n",
        "Adds an L1 penalty → Sum of absolute values of coefficients (\n",
        "∑\n",
        "∣\n",
        "𝜃\n",
        "𝑗\n",
        "∣\n",
        "∑∣θ\n",
        "j\n",
        "​\n",
        " ∣).\n",
        "Can shrink some coefficients to exactly zero, effectively removing irrelevant features.\n",
        "Performs automatic feature selection, reducing complexity.\n",
        "Helps in identifying important predictors.\n",
        "\n",
        "Elastic Net Regression (Combination of L1 & L2)\n",
        "𝐽\n",
        "(\n",
        "𝜃\n",
        ")\n",
        "=\n",
        "∑\n",
        "𝑖\n",
        "=\n",
        "1\n",
        "𝑚\n",
        "(\n",
        "𝑦\n",
        "𝑖\n",
        "−\n",
        "𝑦\n",
        "^\n",
        "𝑖\n",
        ")\n",
        "2\n",
        "+\n",
        "𝜆\n",
        "1\n",
        "∑\n",
        "𝑗\n",
        "=\n",
        "1\n",
        "𝑛\n",
        "∣\n",
        "𝜃\n",
        "𝑗\n",
        "∣\n",
        "+\n",
        "𝜆\n",
        "2\n",
        "∑\n",
        "𝑗\n",
        "=\n",
        "1\n",
        "𝑛\n",
        "𝜃\n",
        "𝑗\n",
        "2\n",
        "J(θ)=\n",
        "i=1\n",
        "∑\n",
        "m\n",
        "​\n",
        " (y\n",
        "i\n",
        "​\n",
        " −\n",
        "y\n",
        "^\n",
        "​\n",
        "  \n",
        "i\n",
        "​\n",
        " )\n",
        "2\n",
        " +λ\n",
        "1\n",
        "​\n",
        "  \n",
        "j=1\n",
        "∑\n",
        "n\n",
        "​\n",
        " ∣θ\n",
        "j\n",
        "​\n",
        " ∣+λ\n",
        "2\n",
        "​\n",
        "  \n",
        "j=1\n",
        "∑\n",
        "n\n",
        "​\n",
        " θ\n",
        "j\n",
        "2\n",
        "​\n",
        "\n",
        "Key Features:\n",
        "Combines L1 (Lasso) and L2 (Ridge) penalties.\n",
        "Performs feature selection like Lasso, but also shrinks coefficients like Ridge.\n",
        "Handles correlated features better than Lasso by distributing weights instead of selecting just one."
      ],
      "metadata": {
        "id": "oyJI-nXvVcBF"
      }
    },
    {
      "cell_type": "markdown",
      "source": [
        "###7. When should we use Elastic Net instead of Lasso or Ridge?"
      ],
      "metadata": {
        "id": "UsvtGKvcWdB0"
      }
    },
    {
      "cell_type": "markdown",
      "source": [
        "Elastic Net is useful when we need both feature selection (Lasso) and coefficient shrinkage (Ridge). It is especially effective in the following scenarios:\n",
        "\n",
        "**When Features are Highly Correlated (Multicollinearity)**\n",
        "\n",
        "Lasso (L1) struggles with correlated features—it tends to pick one feature and ignore the rest.\n",
        "\n",
        "Ridge (L2) shrinks coefficients but does not eliminate features.\n",
        "\n",
        "Elastic Net distributes the weight across correlated features, reducing instability.\n",
        "\n",
        "**When We Need Feature Selection but Lasso is Too Aggressive**\n",
        "\n",
        "Lasso forces some coefficients to exactly zero, which may be too strong if we believe most features are important.\n",
        "\n",
        "Elastic Net allows some coefficients to be small but not necessarily zero, making it a balanced approach.\n",
        "\n",
        "When the Dataset is High-Dimensional (Many More Features Than Samples) **bold text**\n",
        "\n",
        "In high-dimensional datasets (e.g., genetics, text classification, finance), Lasso often selects too few features, which can hurt performance.\n",
        "\n",
        "Elastic Net helps by combining L1 for feature selection and L2 for stability.\n",
        "\n",
        "**When Lasso is Unstable Due to Small Sample Size**\n",
        "\n",
        "Lasso tends to be unstable when the number of samples is much smaller than the number of features.\n",
        "\n",
        "Elastic Net stabilizes feature selection by mixing L1 and L2 regularization."
      ],
      "metadata": {
        "id": "v-eFdnCaWms3"
      }
    },
    {
      "cell_type": "markdown",
      "source": [
        "###8. What is the impact of the regularization parameter (λ) in Logistic Regression?"
      ],
      "metadata": {
        "id": "1a14Bu4tXRDG"
      }
    },
    {
      "cell_type": "markdown",
      "source": [
        "The regularization parameter λ (lambda) controls the strength of regularization in Logistic Regression. It determines how much penalty is applied to the model’s coefficients (θ) to prevent overfitting.\n",
        "\n",
        "Effect of λ on Model Complexity\n",
        "\n",
        "Higher λ (Strong Regularization)\n",
        "\n",
        "Increases the penalty on large coefficients.\n",
        "Forces coefficients closer to zero, reducing model complexity.\n",
        "Prevents overfitting but may cause underfitting if λ is too large.\n",
        "\n",
        "Lower λ (Weak Regularization)\n",
        "\n",
        "Reduces the penalty on coefficients.\n",
        "Allows the model to capture more details from the data.\n",
        "Prevents underfitting but may cause overfitting if λ is too small.\n",
        "\n",
        "λ = 0 (No Regularization)\n",
        "\n",
        "The model behaves like standard Logistic Regression.\n",
        "Coefficients can grow very large, leading to overfitting.\n",
        "\n",
        "Impact on Coefficients (θ)\n",
        "\n",
        "L2 Regularization (Ridge)\n",
        "\n",
        "Shrinks coefficients smoothly but does not set them to zero.\n",
        "Keeps all features but reduces their impact.\n",
        "\n",
        "L1 Regularization (Lasso)\n",
        "\n",
        "Can shrink some coefficients to exactly zero, performing feature selection.\n",
        "Only keeps the most relevant features.\n",
        "\n",
        "Elastic Net Regularization\n",
        "\n",
        "Balances L1 and L2 effects.\n",
        "Some features are eliminated, while others are shrunk."
      ],
      "metadata": {
        "id": "jSg-B6C1XbNV"
      }
    },
    {
      "cell_type": "markdown",
      "source": [
        "###9. What are the key assumptions of Logistic Regression?"
      ],
      "metadata": {
        "id": "w8vn_jtcX2qv"
      }
    },
    {
      "cell_type": "markdown",
      "source": [
        "Although Logistic Regression is a flexible and widely used classification algorithm, it makes several assumptions about the data to perform well.\n",
        "\n",
        "**The Dependent Variable is Binary (or Multiclass)**\n",
        "\n",
        "Logistic Regression is designed for binary classification (\n",
        "𝑦\n",
        "∈\n",
        "{\n",
        "0\n",
        ",\n",
        "1\n",
        "}\n",
        "y∈{0,1}).\n",
        "It can be extended to multiclass classification using techniques like One-vs-Rest (OvR) or Softmax Regression.\n",
        "\n",
        "**No Perfect Multicollinearity Among Independent Variables**\n",
        "\n",
        "Multicollinearity occurs when two or more independent variables are highly correlated.\n",
        "\n",
        "Logistic Regression assumes low or no multicollinearity because:\n",
        "\n",
        "It makes it difficult to interpret coefficients.\n",
        "\n",
        "It increases model variance.\n",
        "\n",
        "**The Data Should Not Contain Extreme Outliers**\n",
        "\n",
        "Logistic Regression is sensitive to outliers, especially when using L1 (Lasso) Regularization.\n",
        "\n",
        "Outliers can distort the estimated coefficients.\n",
        "\n",
        "**The Sample Size Should Be Sufficiently Large**\n",
        "\n",
        "Logistic Regression requires a large dataset to provide stable and reliable estimates of coefficients.\n",
        "\n",
        "A rule of thumb: At least 10-20 samples per independent variable.\n",
        "\n",
        "**Independence of Observations (No Autocorrelation)**\n",
        "\n",
        "Each observation should be independent.\n",
        "\n",
        "If data points are correlated (e.g., time-series data), Logistic Regression may produce biased estimates."
      ],
      "metadata": {
        "id": "U9LmMtvHY0kY"
      }
    },
    {
      "cell_type": "markdown",
      "source": [
        "###10. What are some alternatives to Logistic Regression for classification tasks"
      ],
      "metadata": {
        "id": "qnTNE7OHaNr9"
      }
    },
    {
      "cell_type": "markdown",
      "source": [
        "Logistic Regression is a great baseline model for classification, but it has limitations, especially when dealing with non-linear relationships, high-dimensional data, or complex feature interactions. Here are some alternatives:\n",
        "\n",
        "Decision Trees\n",
        "🔹 How It Works:\n",
        "\n",
        "Splits data into decision nodes based on feature values.\n",
        "\n",
        "Creates a tree-like structure to classify data.\n",
        "🔹 Advantages:\n",
        "\n",
        "Handles non-linear relationships.\n",
        "\n",
        "No need for feature scaling.\n",
        "\n",
        "Easy to interpret (if the tree is small).\n",
        "\n",
        "🔹 Disadvantages:\n",
        "Can overfit easily (use pruning or max depth to control).\n",
        "\n",
        "Not great with high variance datasets (prone to instability).\n",
        "\n",
        "Random Forest\n",
        "🔹 How It Works:\n",
        "\n",
        "An ensemble of multiple decision trees.\n",
        "Uses bagging (randomly sampling data + averaging predictions).\n",
        "🔹 Advantages:\n",
        "Reduces overfitting (compared to a single Decision Tree).\n",
        "\n",
        "Works well on large datasets with many features.\n",
        "\n",
        "Handles missing values and noisy data better.\n",
        "\n",
        "🔹 Disadvantages:\n",
        "Computationally expensive (many trees).\n",
        "\n",
        "Less interpretable than a single Decision Tree.\n",
        "\n",
        "Support Vector Machines (SVM) 🏆\n",
        "🔹 How It Works:\n",
        "\n",
        "Finds the optimal hyperplane that separates classes.\n",
        "Can use kernel trick to handle non-linear data.\n",
        "🔹 Advantages:\n",
        "\n",
        "Works well for high-dimensional data.\n",
        "\n",
        "Can model complex decision boundaries (with kernels).\n",
        "\n",
        "Robust to outliers (with proper tuning).\n",
        "\n",
        "🔹 Disadvantages:\n",
        "Computationally expensive for large datasets.\n",
        "\n",
        "Less interpretable than Logistic Regression."
      ],
      "metadata": {
        "id": "36BUGZ0Iapz2"
      }
    },
    {
      "cell_type": "markdown",
      "source": [
        "###11. What are Classification Evaluation Metrics"
      ],
      "metadata": {
        "id": "6UfmUtuBbUlS"
      }
    },
    {
      "cell_type": "markdown",
      "source": [
        "When evaluating a classification model, we use different metrics to measure its performance. The choice of metric depends on the problem, class distribution, and business requirements.\n",
        "\n",
        "**Accuracy**\n",
        "\n",
        "Accuracy=\n",
        "TP+TN/TP+TN+FP+FN\n",
        "\n",
        "What it measures:\n",
        "\n",
        "The proportion of correctly classified instances.\n",
        "\n",
        "**Precision**\n",
        "\n",
        "Precision= TP/TP+FP\n",
        "\n",
        "What it measures:\n",
        "\n",
        "The proportion of positive predictions that are actually correct.\n",
        "\n",
        "\"How many of the predicted positives are truly positive?\"\n",
        "\n",
        "**Recall**\n",
        "\n",
        "Recall= TP/TP+FN\n",
        "\n",
        "What it measures:\n",
        "\n",
        "The proportion of actual positives that were correctly identified.\n",
        "\n",
        "\"How many actual positives did we correctly predict?\"\n"
      ],
      "metadata": {
        "id": "ojV4NnN7bvxg"
      }
    },
    {
      "cell_type": "markdown",
      "source": [
        "###12. How does class imbalance affect Logistic Regression?"
      ],
      "metadata": {
        "id": "PbMn4qteew6P"
      }
    },
    {
      "cell_type": "markdown",
      "source": [
        "Class imbalance occurs when one class significantly outnumbers the other(s) in a dataset. This can severely impact Logistic Regression and other classification models.\n",
        "\n",
        "**Issues Caused by Class Imbalance**\n",
        "\n",
        "🔹 Biased Model Towards the Majority Class\n",
        "\n",
        "Logistic Regression minimizes overall error by predicting the majority class more often.\n",
        "\n",
        "If 90% of the data is class 0, the model might predict class 0 90% of the time, achieving 90% accuracy, but completely failing to detect class 1.\n",
        "\n",
        "Misleading Accuracy\n",
        "\n",
        "Accuracy is not a reliable metric for imbalanced data.\n",
        "\n",
        "A model that predicts only the majority class can still have high accuracy but low performance for the minority class.\n",
        "\n",
        "**How to Handle Class Imbalance in Logistic Regression**\n",
        "\n",
        "Resampling Techniques (Data-Level Solutions)\n",
        "\n",
        "Oversampling the Minority Class (SMOTE)\n",
        "\n",
        "Synthetic Minority Over-sampling Technique (SMOTE) generates synthetic data points for the minority class.\n",
        "\n",
        "Prevents overfitting while balancing the dataset.\n",
        "\n",
        "Adjusting Class Weights (Model-Level Solution)\n",
        "\n",
        "Logistic Regression has a \"class_weight\" parameter.\n",
        "\n",
        "Assigning higher weight to the minority class forces the model to pay more attention to it.\n",
        "\n",
        "Threshold Tuning\n",
        "\n",
        "Logistic Regression outputs probabilities.\n",
        "\n",
        "The default threshold (0.5) may not be optimal for imbalanced datasets.\n",
        "\n",
        "Adjusting the threshold can improve recall for the minority class.\n",
        "\n",
        "Ensemble Methods (Alternative Models)\n",
        "\n",
        "Random Forest, XGBoost, and Gradient Boosting handle imbalance better than Logistic Regression.\n",
        "\n",
        "They can assign higher weights to misclassified samples."
      ],
      "metadata": {
        "id": "VdydxCHxe-qM"
      }
    },
    {
      "cell_type": "markdown",
      "source": [
        "###13. What is Hyperparameter Tuning in Logistic Regression"
      ],
      "metadata": {
        "id": "GnwHT1Rhgka6"
      }
    },
    {
      "cell_type": "markdown",
      "source": [
        "Hyperparameter tuning is the process of selecting the best configuration settings (hyperparameters) for a model to improve performance. Unlike model parameters (like weights in logistic regression), hyperparameters are set before training and control how the model learns.\n",
        "\n",
        "**Techniques for Hyperparameter Tuning**\n",
        "\n",
        "Grid Search (Exhaustive Search)\n",
        "\n",
        "Tests all possible combinations of hyperparameters.\n",
        "\n",
        "Computationally expensive but finds the best combination.\n",
        "\n",
        "**Randomized Search (Faster)**\n",
        "\n",
        "Randomly samples hyperparameter combinations instead of testing all.\n",
        "\n",
        "Faster than Grid Search while still finding good results.\n",
        "\n",
        "**Bayesian Optimization (Advanced)**\n",
        "\n",
        "Uses probabilistic models to find the best hyperparameters more efficiently.\n",
        "\n",
        "Suitable for large-scale problems."
      ],
      "metadata": {
        "id": "T8YRNTlJgmMY"
      }
    },
    {
      "cell_type": "markdown",
      "source": [
        "###14. What are different solvers in Logistic Regression? Which one should be used"
      ],
      "metadata": {
        "id": "ng9NNXnbhgTE"
      }
    },
    {
      "cell_type": "markdown",
      "source": [
        "Logistic Regression in Scikit-Learn (sklearn.linear_model.LogisticRegression) supports multiple optimization algorithms (solvers). The choice of solver affects convergence speed, memory usage, and compatibility with penalties (L1, L2, etc.).\n",
        "\n",
        "When to Use Each Solver\n",
        "\n",
        "**liblinear (Best for Small Datasets, L1 & L2 Support)**\n",
        "\n",
        "Uses Coordinate Descent (solves for one feature at a time).\n",
        "\n",
        "Works well with small datasets (not scalable for large data).\n",
        "\n",
        "Supports L1 Regularization (Feature Selection).\n",
        "\n",
        "Use when:\n",
        "\n",
        "Your dataset is small (< 10,000 samples).\n",
        "\n",
        "You need L1 regularization for feature selection.\n",
        "\n",
        "**lbfgs (Best for Large, Multi-Class Datasets)**\n",
        "\n",
        "Memory-efficient & supports multi-class classification (softmax).\n",
        "\n",
        "Does not support L1 regularization (only L2).\n",
        "\n",
        "Uses a second-order optimization method.\n",
        "\n",
        "Use when:\n",
        "\n",
        "Dataset is large.\n",
        "\n",
        "Multi-class classification (multi_class='multinomial').\n",
        "\n",
        "**saga (Best for Large, Sparse Datasets & Feature Selection)**\n",
        "\n",
        "Supports L1, L2, and ElasticNet Regularization.\n",
        "\n",
        "Works well for high-dimensional, sparse data (text classification, NLP).\n",
        "\n",
        "Suitable for huge datasets (scales better than liblinear)."
      ],
      "metadata": {
        "id": "O45g76-Thmee"
      }
    },
    {
      "cell_type": "markdown",
      "source": [
        "###15. How is Logistic Regression extended for multiclass classification"
      ],
      "metadata": {
        "id": "q6C0Erqyiyk0"
      }
    },
    {
      "cell_type": "markdown",
      "source": [
        "Logistic Regression is naturally a binary classifier, but it can be extended to multiclass classification using strategies like One-vs-Rest (OvR) and Softmax Regression (Multinomial Logistic Regression).\n",
        "\n",
        "Strategies for Multiclass Classification\n",
        "\n",
        "**(1) One-vs-Rest (OvR) (Also called One-vs-All)**\n",
        "\n",
        "Converts a multiclass problem into multiple binary classification problems.\n",
        "\n",
        "Trains one Logistic Regression model per class, treating it as positive and all others as negative.\n",
        "\n",
        "The class with the highest probability is chosen as the final prediction.\n",
        "\n",
        "**(2) Multinomial Logistic Regression (Softmax Regression)**\n",
        "\n",
        "Instead of treating the problem as multiple binary tasks, it directly optimizes for multiple classes.\n",
        "\n",
        "Uses the Softmax function to calculate the probability of each class.\n",
        "\n",
        "Generalizes the sigmoid function for multiple classes."
      ],
      "metadata": {
        "id": "CIUZPUhni-dw"
      }
    },
    {
      "cell_type": "markdown",
      "source": [
        "###16. What are the advantages and disadvantages of Logistic Regression"
      ],
      "metadata": {
        "id": "ZcXbPO8OjbYy"
      }
    },
    {
      "cell_type": "markdown",
      "source": [
        "Logistic Regression is a popular classification algorithm, but it has strengths and weaknesses depending on the problem and dataset.\n",
        "\n",
        "**Advantages of Logistic Regression**\n",
        "\n",
        "Simple & Easy to Implement\n",
        "\n",
        "Works Well with Linearly Separable Data\n",
        "\n",
        "Outputs Probabilities\n",
        "\n",
        "Can Handle Multiclass Problems\n",
        "\n",
        "Works Well for Small & Medium Datasets\n",
        "\n",
        "Can Be Regularized\n",
        "\n",
        "Interpretable Model\n",
        "\n",
        "**Disadvantages of Logistic Regression**\n",
        "\n",
        "Assumes a Linear Decision Boundary\n",
        "\n",
        "Sensitive to Outliers\n",
        "\n",
        "Poor Performance on Complex Data\n",
        "\n",
        "Requires Feature Engineering\n",
        "\n",
        "Struggles with High-Dimensional Data\n",
        "\n",
        "Not Ideal for Large Datasets"
      ],
      "metadata": {
        "id": "z66e-LBSjsJ8"
      }
    },
    {
      "cell_type": "markdown",
      "source": [
        "###17. What are some use cases of Logistic Regression"
      ],
      "metadata": {
        "id": "M0DU1RCukVlV"
      }
    },
    {
      "cell_type": "markdown",
      "source": [
        "Logistic Regression is widely used for classification problems in various domains, including healthcare, finance, marketing, and social sciences. Below are some of its key applications:\n",
        "\n",
        "**Healthcare & Medical Diagnosis**\n",
        "\n",
        "Disease Prediction & Diagnosis\n",
        "\n",
        "Used to predict diseases like diabetes, cancer, heart disease.\n",
        "\n",
        "Example: Predicting whether a patient has diabetes based on glucose levels, BMI, and age.\n",
        "\n",
        "**Finance & Banking**\n",
        "\n",
        "redit Scoring & Loan Default Prediction\n",
        "\n",
        "Banks use Logistic Regression to assess creditworthiness (approve/reject loan applications).\n",
        "\n",
        "Predicts if a customer will default on a loan based on income, credit history, and other factors.\n",
        "\n",
        "Fraud Detection\n",
        "\n",
        "Identifies fraudulent transactions based on past spending patterns.\n",
        "\n",
        "**Marketing & Customer Analytics**\n",
        "\n",
        "Customer Churn Prediction\n",
        "\n",
        "Predicts whether a customer will leave a service (churn) or stay.\n",
        "\n",
        "Used by telecom companies, SaaS businesses, and banks.\n",
        "\n",
        "**Human Resources & Hiring**\n",
        "\n",
        "Employee Attrition Prediction\n",
        "\n",
        "Helps companies predict whether employees are likely to quit based on work experience, salary, and job satisfaction.\n",
        "\n",
        "**Political Science & Social Research**\n",
        "\n",
        "Election Outcome Prediction\n",
        "\n",
        "Predicts whether a voter will vote for Party A (1) or Party B (0) based on demographics.\n",
        "\n",
        "Customer Sentiment Analysis\n",
        "\n",
        "Used in NLP tasks to classify tweets, reviews, and feedback as positive, neutral, or negative.\n",
        "\n",
        "**Industrial & Manufacturing**\n",
        "\n",
        "Predictive Maintenance\n",
        "\n",
        "Predicts if a machine will fail soon (1) or function normally (0) based on sensor data.\n",
        "\n",
        "Defect Detection in Products\n",
        "\n",
        "Classifies products as defective or non-defective during quality control."
      ],
      "metadata": {
        "id": "CPDlKreCkdsw"
      }
    },
    {
      "cell_type": "markdown",
      "source": [
        "###18. What is the difference between Softmax Regression and Logistic Regression?"
      ],
      "metadata": {
        "id": "21Mn1C5Fli2K"
      }
    },
    {
      "cell_type": "markdown",
      "source": [
        "Logistic Regression (Binary Classification)\n",
        "\n",
        "Used when there are only two possible classes (e.g., spam vs. not spam).\n",
        "\n",
        "Uses sigmoid function to output a probability between 0 and 1.\n",
        "\n",
        "**Softmax Regression (Multiclass Classification)**\n",
        "\n",
        "Used when there are more than two classes (e.g., classifying images into cats, dogs, and birds).\n",
        "\n",
        "Uses the Softmax function to assign probabilities to multiple classes.\n",
        "\n",
        "The class with the highest probability is chosen."
      ],
      "metadata": {
        "id": "Gqo1Wcj3lxeJ"
      }
    },
    {
      "cell_type": "markdown",
      "source": [
        "###19. How do we choose between One-vs-Rest (OvR) and Softmax for multiclass classification"
      ],
      "metadata": {
        "id": "67SSnGwpmz7L"
      }
    },
    {
      "cell_type": "markdown",
      "source": [
        "Choosing Between One-vs-Rest (OvR) and Softmax (Multinomial) for Multiclass Classification\n",
        "When extending Logistic Regression for multiclass classification, we have two common approaches:\n",
        "\n",
        "One-vs-Rest (OvR) (a.k.a. One-vs-All, OvA)\n",
        "\n",
        "Softmax Regression (a.k.a. Multinomial Logistic Regression)\n",
        "\n",
        "One-vs-Rest (OvR)\n",
        "\n",
        "How It Works:\n",
        "\n",
        "Trains one Logistic Regression model per class.\n",
        "\n",
        "Each model treats one class as \"positive\" (1) and the rest as \"negative\" (0).\n",
        "\n",
        "The class with the highest probability is chosen.\n",
        "\n",
        "**Advantages of OvR:**\n",
        "\n",
        "Simpler & Faster (especially for small datasets).\n",
        "\n",
        "Works with any binary classifier (not just Logistic Regression).\n",
        "\n",
        "More interpretable, as each class gets its own model.\n",
        "\n",
        "**Disadvantages of OvR:**\n",
        "\n",
        "Computationally expensive if there are many classes (since it trains K models for K classes).\n",
        "\n",
        "May lead to overlapping decision boundaries.\n",
        "\n",
        "**Softmax Regression (Multinomial Logistic Regression)**\n",
        "\n",
        "How It Works:\n",
        "Uses a single model to learn probabilities for all classes at once.\n",
        "\n",
        "Uses the Softmax function instead of the Sigmoid function.\n",
        "\n",
        "Assigns a probability to each class, and picks the class with the highest probability.\n",
        "\n",
        "**Advantages of Softmax:**\n",
        "\n",
        "More accurate for large, complex datasets.\n",
        "\n",
        "Uses a single model, so it's more efficient for a large number of classes.\n",
        "\n",
        "Avoids overlapping decision boundaries.\n",
        "\n",
        "**Disadvantages of Softmax:**\n",
        "\n",
        "Computationally expensive (solves a more complex optimization problem).\n",
        "\n",
        "Harder to interpret compared to OvR."
      ],
      "metadata": {
        "id": "-wuwQVK0m5-4"
      }
    },
    {
      "cell_type": "markdown",
      "source": [
        "#***Practical***"
      ],
      "metadata": {
        "id": "6M7lV_L9ooTr"
      }
    },
    {
      "cell_type": "markdown",
      "source": [
        "###1. Write a Python program that loads a dataset, splits it into training and testing sets, applies Logistic Regression, and prints the model accuracy."
      ],
      "metadata": {
        "id": "-tisaEDxozgM"
      }
    },
    {
      "cell_type": "code",
      "source": [
        "import numpy as np\n",
        "import pandas as pd\n",
        "from sklearn.model_selection import train_test_split\n",
        "from sklearn.preprocessing import StandardScaler\n",
        "from sklearn.linear_model import LogisticRegression\n",
        "from sklearn.metrics import accuracy_score\n",
        "\n",
        "# Load Dataset (Example: Breast Cancer Dataset from scikit-learn)\n",
        "from sklearn.datasets import load_breast_cancer\n",
        "data = load_breast_cancer()\n",
        "X = data.data  # Features\n",
        "y = data.target  # Labels (0 = Malignant, 1 = Benign)\n",
        "\n",
        "# Split into Training (80%) and Testing (20%) sets\n",
        "X_train, X_test, y_train, y_test = train_test_split(X, y, test_size=0.2, random_state=42)\n",
        "\n",
        "# Feature Scaling (important for better model performance)\n",
        "scaler = StandardScaler()\n",
        "X_train = scaler.fit_transform(X_train)\n",
        "X_test = scaler.transform(X_test)\n",
        "\n",
        "# Apply Logistic Regression\n",
        "model = LogisticRegression()\n",
        "model.fit(X_train, y_train)\n",
        "\n",
        "# Make Predictions\n",
        "y_pred = model.predict(X_test)\n",
        "\n",
        "# Calculate Accuracy\n",
        "accuracy = accuracy_score(y_test, y_pred)\n",
        "print(f\"Model Accuracy: {accuracy:.4f}\")  # Prints accuracy with 4 decimal places"
      ],
      "metadata": {
        "colab": {
          "base_uri": "https://localhost:8080/"
        },
        "id": "aSCUQadSNrmm",
        "outputId": "c776ab31-8780-41f7-c648-53df3a6a8512"
      },
      "execution_count": 1,
      "outputs": [
        {
          "output_type": "stream",
          "name": "stdout",
          "text": [
            "Model Accuracy: 0.9737\n"
          ]
        }
      ]
    },
    {
      "cell_type": "markdown",
      "source": [
        "###2. Write a Python program to apply L1 regularization (Lasso) on a dataset using LogisticRegression(penalty='l1') and print the model accuracy"
      ],
      "metadata": {
        "id": "yLCj_m7ApzI8"
      }
    },
    {
      "cell_type": "code",
      "source": [
        "import numpy as np\n",
        "import pandas as pd\n",
        "from sklearn.model_selection import train_test_split\n",
        "from sklearn.preprocessing import StandardScaler\n",
        "from sklearn.linear_model import LogisticRegression\n",
        "from sklearn.metrics import accuracy_score\n",
        "\n",
        "# Load Dataset (Breast Cancer dataset from scikit-learn)\n",
        "from sklearn.datasets import load_breast_cancer\n",
        "data = load_breast_cancer()\n",
        "X = data.data  # Features\n",
        "y = data.target  # Labels (0 = Malignant, 1 = Benign)\n",
        "\n",
        "# Split into Training (80%) and Testing (20%) sets\n",
        "X_train, X_test, y_train, y_test = train_test_split(X, y, test_size=0.2, random_state=42)\n",
        "\n",
        "# Feature Scaling (important for L1 regularization)\n",
        "scaler = StandardScaler()\n",
        "X_train = scaler.fit_transform(X_train)\n",
        "X_test = scaler.transform(X_test)\n",
        "\n",
        "# Apply Logistic Regression with L1 Regularization (Lasso)\n",
        "model = LogisticRegression(penalty='l1', solver='liblinear', C=1.0)\n",
        "model.fit(X_train, y_train)\n",
        "\n",
        "# Make Predictions\n",
        "y_pred = model.predict(X_test)\n",
        "\n",
        "# Calculate Accuracy\n",
        "accuracy = accuracy_score(y_test, y_pred)\n",
        "print(f\"Model Accuracy with L1 Regularization: {accuracy:.4f}\")"
      ],
      "metadata": {
        "colab": {
          "base_uri": "https://localhost:8080/"
        },
        "id": "yuX9zea1p1rT",
        "outputId": "177d389e-5bc3-4273-b5e6-d7687c19f5b6"
      },
      "execution_count": 2,
      "outputs": [
        {
          "output_type": "stream",
          "name": "stdout",
          "text": [
            "Model Accuracy with L1 Regularization: 0.9737\n"
          ]
        }
      ]
    },
    {
      "cell_type": "markdown",
      "source": [
        "###3. Write a Python program to train Logistic Regression with L2 regularization (Ridge) using LogisticRegression(penalty='l2'). Print model accuracy and coefficients"
      ],
      "metadata": {
        "id": "MXLy8nOiqEMt"
      }
    },
    {
      "cell_type": "code",
      "source": [
        "import numpy as np\n",
        "import pandas as pd\n",
        "from sklearn.model_selection import train_test_split\n",
        "from sklearn.preprocessing import StandardScaler\n",
        "from sklearn.linear_model import LogisticRegression\n",
        "from sklearn.metrics import accuracy_score\n",
        "\n",
        "# Load Dataset (Breast Cancer dataset from scikit-learn)\n",
        "from sklearn.datasets import load_breast_cancer\n",
        "data = load_breast_cancer()\n",
        "X = data.data  # Features\n",
        "y = data.target  # Labels (0 = Malignant, 1 = Benign)\n",
        "\n",
        "# Split into Training (80%) and Testing (20%) sets\n",
        "X_train, X_test, y_train, y_test = train_test_split(X, y, test_size=0.2, random_state=42)\n",
        "\n",
        "# Feature Scaling (important for L2 regularization)\n",
        "scaler = StandardScaler()\n",
        "X_train = scaler.fit_transform(X_train)\n",
        "X_test = scaler.transform(X_test)\n",
        "\n",
        "# Apply Logistic Regression with L2 Regularization (Ridge)\n",
        "model = LogisticRegression(penalty='l2', solver='lbfgs', C=1.0)\n",
        "model.fit(X_train, y_train)\n",
        "\n",
        "# Make Predictions\n",
        "y_pred = model.predict(X_test)\n",
        "\n",
        "# Calculate Accuracy\n",
        "accuracy = accuracy_score(y_test, y_pred)\n",
        "print(f\"Model Accuracy with L2 Regularization: {accuracy:.4f}\")\n",
        "\n",
        "# Print Coefficients\n",
        "print(\"\\nFeature Coefficients:\")\n",
        "for feature, coef in zip(data.feature_names, model.coef_[0]):\n",
        "    print(f\"{feature}: {coef:.4f}\")\n"
      ],
      "metadata": {
        "colab": {
          "base_uri": "https://localhost:8080/"
        },
        "id": "P8wuVVwSqFY5",
        "outputId": "1985e805-640b-4a19-d2e7-076eb985b4a6"
      },
      "execution_count": 3,
      "outputs": [
        {
          "output_type": "stream",
          "name": "stdout",
          "text": [
            "Model Accuracy with L2 Regularization: 0.9737\n",
            "\n",
            "Feature Coefficients:\n",
            "mean radius: -0.4319\n",
            "mean texture: -0.3873\n",
            "mean perimeter: -0.3934\n",
            "mean area: -0.4652\n",
            "mean smoothness: -0.0717\n",
            "mean compactness: 0.5402\n",
            "mean concavity: -0.8015\n",
            "mean concave points: -1.1198\n",
            "mean symmetry: 0.2361\n",
            "mean fractal dimension: 0.0759\n",
            "radius error: -1.2682\n",
            "texture error: 0.1889\n",
            "perimeter error: -0.6106\n",
            "area error: -0.9072\n",
            "smoothness error: -0.3133\n",
            "compactness error: 0.6825\n",
            "concavity error: 0.1753\n",
            "concave points error: -0.3113\n",
            "symmetry error: 0.5004\n",
            "fractal dimension error: 0.6162\n",
            "worst radius: -0.8798\n",
            "worst texture: -1.3506\n",
            "worst perimeter: -0.5895\n",
            "worst area: -0.8418\n",
            "worst smoothness: -0.5442\n",
            "worst compactness: 0.0161\n",
            "worst concavity: -0.9431\n",
            "worst concave points: -0.7782\n",
            "worst symmetry: -1.2082\n",
            "worst fractal dimension: -0.1574\n"
          ]
        }
      ]
    },
    {
      "cell_type": "markdown",
      "source": [
        "###4. Write a Python program to train Logistic Regression with Elastic Net Regularization (penalty='elasticnet')"
      ],
      "metadata": {
        "id": "1PTucHW1qSuj"
      }
    },
    {
      "cell_type": "code",
      "source": [
        "import numpy as np\n",
        "import pandas as pd\n",
        "from sklearn.model_selection import train_test_split\n",
        "from sklearn.preprocessing import StandardScaler\n",
        "from sklearn.linear_model import LogisticRegression\n",
        "from sklearn.metrics import accuracy_score\n",
        "\n",
        "# Load Dataset (Breast Cancer dataset from scikit-learn)\n",
        "from sklearn.datasets import load_breast_cancer\n",
        "data = load_breast_cancer()\n",
        "X = data.data  # Features\n",
        "y = data.target  # Labels (0 = Malignant, 1 = Benign)\n",
        "\n",
        "# Split into Training (80%) and Testing (20%) sets\n",
        "X_train, X_test, y_train, y_test = train_test_split(X, y, test_size=0.2, random_state=42)\n",
        "\n",
        "# Feature Scaling (important for regularization techniques)\n",
        "scaler = StandardScaler()\n",
        "X_train = scaler.fit_transform(X_train)\n",
        "X_test = scaler.transform(X_test)\n",
        "\n",
        "# Apply Logistic Regression with Elastic Net Regularization\n",
        "model = LogisticRegression(penalty='elasticnet', solver='saga', l1_ratio=0.5, C=1.0)\n",
        "model.fit(X_train, y_train)\n",
        "\n",
        "# Make Predictions\n",
        "y_pred = model.predict(X_test)\n",
        "\n",
        "# Calculate Accuracy\n",
        "accuracy = accuracy_score(y_test, y_pred)\n",
        "print(f\"Model Accuracy with Elastic Net Regularization: {accuracy:.4f}\")\n",
        "\n",
        "# Print Coefficients\n",
        "print(\"\\nFeature Coefficients:\")\n",
        "for feature, coef in zip(data.feature_names, model.coef_[0]):\n",
        "    print(f\"{feature}: {coef:.4f}\")\n"
      ],
      "metadata": {
        "colab": {
          "base_uri": "https://localhost:8080/"
        },
        "id": "U4eGuVdNqZ1N",
        "outputId": "278104d1-fadf-4b0e-ea94-a07039d63007"
      },
      "execution_count": 4,
      "outputs": [
        {
          "output_type": "stream",
          "name": "stdout",
          "text": [
            "Model Accuracy with Elastic Net Regularization: 0.9737\n",
            "\n",
            "Feature Coefficients:\n",
            "mean radius: -0.4492\n",
            "mean texture: -0.5218\n",
            "mean perimeter: -0.4158\n",
            "mean area: -0.4838\n",
            "mean smoothness: -0.0365\n",
            "mean compactness: 0.1982\n",
            "mean concavity: -0.6312\n",
            "mean concave points: -0.8692\n",
            "mean symmetry: 0.0626\n",
            "mean fractal dimension: 0.1497\n",
            "radius error: -1.0484\n",
            "texture error: 0.0630\n",
            "perimeter error: -0.5884\n",
            "area error: -0.7116\n",
            "smoothness error: -0.1776\n",
            "compactness error: 0.6309\n",
            "concavity error: 0.0000\n",
            "concave points error: -0.0960\n",
            "symmetry error: 0.3678\n",
            "fractal dimension error: 0.4562\n",
            "worst radius: -0.8398\n",
            "worst texture: -1.0976\n",
            "worst perimeter: -0.6579\n",
            "worst area: -0.7876\n",
            "worst smoothness: -0.6895\n",
            "worst compactness: 0.0000\n",
            "worst concavity: -0.7775\n",
            "worst concave points: -0.8074\n",
            "worst symmetry: -0.9480\n",
            "worst fractal dimension: -0.0039\n"
          ]
        },
        {
          "output_type": "stream",
          "name": "stderr",
          "text": [
            "/usr/local/lib/python3.11/dist-packages/sklearn/linear_model/_sag.py:348: ConvergenceWarning: The max_iter was reached which means the coef_ did not converge\n",
            "  warnings.warn(\n"
          ]
        }
      ]
    },
    {
      "cell_type": "markdown",
      "source": [
        "###5. Write a Python program to train a Logistic Regression model for multiclass classification using multi_class='ovr'"
      ],
      "metadata": {
        "id": "LglBiHokq0EK"
      }
    },
    {
      "cell_type": "code",
      "source": [
        "import numpy as np\n",
        "import pandas as pd\n",
        "from sklearn.model_selection import train_test_split\n",
        "from sklearn.preprocessing import StandardScaler\n",
        "from sklearn.linear_model import LogisticRegression\n",
        "from sklearn.metrics import accuracy_score\n",
        "\n",
        "# Load Dataset (Iris dataset from scikit-learn)\n",
        "from sklearn.datasets import load_iris\n",
        "data = load_iris()\n",
        "X = data.data  # Features\n",
        "y = data.target  # Labels (0, 1, 2 for three flower species)\n",
        "\n",
        "# Split into Training (80%) and Testing (20%) sets\n",
        "X_train, X_test, y_train, y_test = train_test_split(X, y, test_size=0.2, random_state=42, stratify=y)\n",
        "\n",
        "# Feature Scaling (important for Logistic Regression)\n",
        "scaler = StandardScaler()\n",
        "X_train = scaler.fit_transform(X_train)\n",
        "X_test = scaler.transform(X_test)\n",
        "\n",
        "# Apply Logistic Regression with One-vs-Rest (OvR) for Multiclass Classification\n",
        "model = LogisticRegression(multi_class='ovr', solver='lbfgs', max_iter=200)\n",
        "model.fit(X_train, y_train)\n",
        "\n",
        "# Make Predictions\n",
        "y_pred = model.predict(X_test)\n",
        "\n",
        "# Calculate Accuracy\n",
        "accuracy = accuracy_score(y_test, y_pred)\n",
        "print(f\"Model Accuracy with One-vs-Rest (OvR): {accuracy:.4f}\")\n",
        "\n",
        "# Print Coefficients for Each Class\n",
        "print(\"\\nFeature Coefficients for Each Class:\")\n",
        "for i, class_label in enumerate(data.target_names):\n",
        "    print(f\"Class {class_label} Coefficients: {model.coef_[i]}\")\n"
      ],
      "metadata": {
        "colab": {
          "base_uri": "https://localhost:8080/"
        },
        "id": "mt-CuFkdqy4K",
        "outputId": "8e6d17a6-52e0-45d6-c7d8-a86183c31ad7"
      },
      "execution_count": 5,
      "outputs": [
        {
          "output_type": "stream",
          "name": "stdout",
          "text": [
            "Model Accuracy with One-vs-Rest (OvR): 0.9000\n",
            "\n",
            "Feature Coefficients for Each Class:\n",
            "Class setosa Coefficients: [-1.07684949  1.12077378 -1.69203249 -1.55525561]\n",
            "Class versicolor Coefficients: [ 0.06298601 -1.26614476  0.85746085 -0.90671229]\n",
            "Class virginica Coefficients: [ 0.2364878  -0.39385835  2.15207436  2.94503771]\n"
          ]
        },
        {
          "output_type": "stream",
          "name": "stderr",
          "text": [
            "/usr/local/lib/python3.11/dist-packages/sklearn/linear_model/_logistic.py:1256: FutureWarning: 'multi_class' was deprecated in version 1.5 and will be removed in 1.7. Use OneVsRestClassifier(LogisticRegression(..)) instead. Leave it to its default value to avoid this warning.\n",
            "  warnings.warn(\n"
          ]
        }
      ]
    },
    {
      "cell_type": "markdown",
      "source": [
        "###6. Write a Python program to apply GridSearchCV to tune the hyperparameters (C and penalty) of Logistic Regression. Print the best parameters and accuracy"
      ],
      "metadata": {
        "id": "KiRt67udrtXd"
      }
    },
    {
      "cell_type": "code",
      "source": [
        "import numpy as np\n",
        "import pandas as pd\n",
        "from sklearn.model_selection import train_test_split, GridSearchCV\n",
        "from sklearn.preprocessing import StandardScaler\n",
        "from sklearn.linear_model import LogisticRegression\n",
        "from sklearn.metrics import accuracy_score\n",
        "\n",
        "# Load Dataset (Breast Cancer dataset from scikit-learn)\n",
        "from sklearn.datasets import load_breast_cancer\n",
        "data = load_breast_cancer()\n",
        "X = data.data  # Features\n",
        "y = data.target  # Labels (0 = Malignant, 1 = Benign)\n",
        "\n",
        "# Split into Training (80%) and Testing (20%) sets\n",
        "X_train, X_test, y_train, y_test = train_test_split(X, y, test_size=0.2, random_state=42)\n",
        "\n",
        "# Feature Scaling (important for regularization techniques)\n",
        "scaler = StandardScaler()\n",
        "X_train = scaler.fit_transform(X_train)\n",
        "X_test = scaler.transform(X_test)\n",
        "\n",
        "# Define Logistic Regression model\n",
        "model = LogisticRegression(solver='saga', max_iter=500)\n",
        "\n",
        "# Define hyperparameter grid for GridSearchCV\n",
        "param_grid = {\n",
        "    'C': [0.01, 0.1, 1, 10, 100],  # Regularization strength (lower = stronger regularization)\n",
        "    'penalty': ['l1', 'l2']  # L1 (Lasso) and L2 (Ridge) regularization\n",
        "}\n",
        "\n",
        "# Apply GridSearchCV\n",
        "grid_search = GridSearchCV(model, param_grid, cv=5, scoring='accuracy', n_jobs=-1)\n",
        "grid_search.fit(X_train, y_train)\n",
        "\n",
        "# Get the best parameters and model\n",
        "best_params = grid_search.best_params_\n",
        "best_model = grid_search.best_estimator_\n",
        "\n",
        "# Make Predictions using the best model\n",
        "y_pred = best_model.predict(X_test)\n",
        "\n",
        "# Calculate Accuracy\n",
        "accuracy = accuracy_score(y_test, y_pred)\n",
        "\n",
        "# Print Best Hyperparameters and Accuracy\n",
        "print(f\"Best Hyperparameters: {best_params}\")\n",
        "print(f\"Model Accuracy with Best Parameters: {accuracy:.4f}\")\n"
      ],
      "metadata": {
        "colab": {
          "base_uri": "https://localhost:8080/"
        },
        "id": "FZQhlyzArrGp",
        "outputId": "0b406906-3c25-4ff1-8ced-3db99ee85412"
      },
      "execution_count": 6,
      "outputs": [
        {
          "output_type": "stream",
          "name": "stdout",
          "text": [
            "Best Hyperparameters: {'C': 10, 'penalty': 'l1'}\n",
            "Model Accuracy with Best Parameters: 0.9825\n"
          ]
        },
        {
          "output_type": "stream",
          "name": "stderr",
          "text": [
            "/usr/local/lib/python3.11/dist-packages/sklearn/linear_model/_sag.py:348: ConvergenceWarning: The max_iter was reached which means the coef_ did not converge\n",
            "  warnings.warn(\n"
          ]
        }
      ]
    },
    {
      "cell_type": "markdown",
      "source": [
        "###7. Write a Python program to evaluate Logistic Regression using Stratified K-Fold Cross-Validation. Print the average accuracy"
      ],
      "metadata": {
        "id": "QeZjBlSgsGRo"
      }
    },
    {
      "cell_type": "code",
      "source": [
        "import numpy as np\n",
        "import pandas as pd\n",
        "from sklearn.model_selection import StratifiedKFold\n",
        "from sklearn.preprocessing import StandardScaler\n",
        "from sklearn.linear_model import LogisticRegression\n",
        "from sklearn.metrics import accuracy_score\n",
        "\n",
        "# Load Dataset (Breast Cancer dataset from scikit-learn)\n",
        "from sklearn.datasets import load_breast_cancer\n",
        "data = load_breast_cancer()\n",
        "X = data.data  # Features\n",
        "y = data.target  # Labels (0 = Malignant, 1 = Benign)\n",
        "\n",
        "# Feature Scaling (important for Logistic Regression)\n",
        "scaler = StandardScaler()\n",
        "X = scaler.fit_transform(X)\n",
        "\n",
        "# Define Stratified K-Fold Cross-Validation\n",
        "k = 5  # Number of folds\n",
        "skf = StratifiedKFold(n_splits=k, shuffle=True, random_state=42)\n",
        "\n",
        "# Define Logistic Regression model\n",
        "model = LogisticRegression(penalty='l2', solver='lbfgs', max_iter=500)\n",
        "\n",
        "# Perform Stratified K-Fold Cross-Validation\n",
        "accuracies = []\n",
        "\n",
        "for train_index, test_index in skf.split(X, y):\n",
        "    X_train, X_test = X[train_index], X[test_index]\n",
        "    y_train, y_test = y[train_index], y[test_index]\n",
        "\n",
        "    # Train model\n",
        "    model.fit(X_train, y_train)\n",
        "\n",
        "    # Make Predictions\n",
        "    y_pred = model.predict(X_test)\n",
        "\n",
        "    # Compute Accuracy\n",
        "    acc = accuracy_score(y_test, y_pred)\n",
        "    accuracies.append(acc)\n",
        "\n",
        "# Compute Average Accuracy\n",
        "average_accuracy = np.mean(accuracies)\n",
        "\n",
        "# Print Results\n",
        "print(f\"Accuracies for each fold: {accuracies}\")\n",
        "print(f\"Average Accuracy across {k} folds: {average_accuracy:.4f}\")\n"
      ],
      "metadata": {
        "colab": {
          "base_uri": "https://localhost:8080/"
        },
        "id": "bOmwbBhor_NS",
        "outputId": "4be65368-e1f2-4191-f941-892359be4901"
      },
      "execution_count": 7,
      "outputs": [
        {
          "output_type": "stream",
          "name": "stdout",
          "text": [
            "Accuracies for each fold: [0.9736842105263158, 0.9473684210526315, 0.9649122807017544, 0.9912280701754386, 0.9911504424778761]\n",
            "Average Accuracy across 5 folds: 0.9737\n"
          ]
        }
      ]
    },
    {
      "cell_type": "markdown",
      "source": [
        "###9. Write a Python program to apply RandomizedSearchCV for tuning hyperparameters (C, penalty, solver) in Logistic Regression. Print the best parameters and accuracy"
      ],
      "metadata": {
        "id": "gHVMuU8otTn-"
      }
    },
    {
      "cell_type": "code",
      "source": [
        "import numpy as np\n",
        "import pandas as pd\n",
        "from sklearn.model_selection import train_test_split, RandomizedSearchCV\n",
        "from sklearn.preprocessing import StandardScaler\n",
        "from sklearn.linear_model import LogisticRegression\n",
        "from sklearn.metrics import accuracy_score\n",
        "from scipy.stats import loguniform\n",
        "\n",
        "# Load Dataset (Breast Cancer dataset from scikit-learn)\n",
        "from sklearn.datasets import load_breast_cancer\n",
        "data = load_breast_cancer()\n",
        "X = data.data  # Features\n",
        "y = data.target  # Labels (0 = Malignant, 1 = Benign)\n",
        "\n",
        "# Split dataset into Training (80%) and Testing (20%) sets\n",
        "X_train, X_test, y_train, y_test = train_test_split(X, y, test_size=0.2, random_state=42)\n",
        "\n",
        "# Feature Scaling (important for regularization)\n",
        "scaler = StandardScaler()\n",
        "X_train = scaler.fit_transform(X_train)\n",
        "X_test = scaler.transform(X_test)\n",
        "\n",
        "# Define Logistic Regression model\n",
        "model = LogisticRegression(max_iter=500)\n",
        "\n",
        "# Define hyperparameter distribution for RandomizedSearchCV\n",
        "param_dist = {\n",
        "    'C': loguniform(0.0001, 10),  # Randomly sample C values from 0.0001 to 10\n",
        "    'penalty': ['l1', 'l2'],  # Regularization types\n",
        "    'solver': ['liblinear', 'saga']  # Compatible solvers for L1/L2 regularization\n",
        "}\n",
        "\n",
        "# Apply RandomizedSearchCV\n",
        "random_search = RandomizedSearchCV(model, param_distributions=param_dist, n_iter=20, cv=5, scoring='accuracy', random_state=42, n_jobs=-1)\n",
        "random_search.fit(X_train, y_train)\n",
        "\n",
        "# Get the best parameters and model\n",
        "best_params = random_search.best_params_\n",
        "best_model = random_search.best_estimator_\n",
        "\n",
        "# Make Predictions using the best model\n",
        "y_pred = best_model.predict(X_test)\n",
        "\n",
        "# Calculate Accuracy\n",
        "accuracy = accuracy_score(y_test, y_pred)\n",
        "\n",
        "# Print Best Hyperparameters and Accuracy\n",
        "print(f\"Best Hyperparameters: {best_params}\")\n",
        "print(f\"Model Accuracy with Best Parameters: {accuracy:.4f}\")\n"
      ],
      "metadata": {
        "colab": {
          "base_uri": "https://localhost:8080/"
        },
        "id": "Lpdoeip-tZUb",
        "outputId": "eceba744-9b99-4ee2-ac84-f28970963866"
      },
      "execution_count": 9,
      "outputs": [
        {
          "output_type": "stream",
          "name": "stdout",
          "text": [
            "Best Hyperparameters: {'C': 0.10129197956845731, 'penalty': 'l2', 'solver': 'liblinear'}\n",
            "Model Accuracy with Best Parameters: 0.9912\n"
          ]
        }
      ]
    },
    {
      "cell_type": "markdown",
      "source": [
        "###10. Write a Python program to implement One-vs-One (OvO) Multiclass Logistic Regression and print accuracy"
      ],
      "metadata": {
        "id": "exUg4Y4_txfO"
      }
    },
    {
      "cell_type": "code",
      "source": [
        "import numpy as np\n",
        "import pandas as pd\n",
        "from sklearn.model_selection import train_test_split\n",
        "from sklearn.preprocessing import StandardScaler\n",
        "from sklearn.multiclass import OneVsOneClassifier\n",
        "from sklearn.linear_model import LogisticRegression\n",
        "from sklearn.metrics import accuracy_score\n",
        "from sklearn.datasets import load_iris\n",
        "\n",
        "# Load Dataset (Iris dataset for multiclass classification)\n",
        "data = load_iris()\n",
        "X = data.data  # Features\n",
        "y = data.target  # Labels (0, 1, 2 for three classes)\n",
        "\n",
        "# Split dataset into Training (80%) and Testing (20%) sets\n",
        "X_train, X_test, y_train, y_test = train_test_split(X, y, test_size=0.2, random_state=42, stratify=y)\n",
        "\n",
        "# Feature Scaling (important for Logistic Regression)\n",
        "scaler = StandardScaler()\n",
        "X_train = scaler.fit_transform(X_train)\n",
        "X_test = scaler.transform(X_test)\n",
        "\n",
        "# Define One-vs-One Logistic Regression Model\n",
        "model = OneVsOneClassifier(LogisticRegression(max_iter=500, solver='lbfgs'))\n",
        "\n",
        "# Train the model\n",
        "model.fit(X_train, y_train)\n",
        "\n",
        "# Make Predictions\n",
        "y_pred = model.predict(X_test)\n",
        "\n",
        "# Calculate Accuracy\n",
        "accuracy = accuracy_score(y_test, y_pred)\n",
        "\n",
        "# Print Accuracy\n",
        "print(f\"One-vs-One (OvO) Logistic Regression Accuracy: {accuracy:.4f}\")\n"
      ],
      "metadata": {
        "colab": {
          "base_uri": "https://localhost:8080/"
        },
        "id": "gDo_KsqHttNt",
        "outputId": "b3e22ec9-3670-4dee-8a7f-78de5a8a1023"
      },
      "execution_count": 10,
      "outputs": [
        {
          "output_type": "stream",
          "name": "stdout",
          "text": [
            "One-vs-One (OvO) Logistic Regression Accuracy: 0.9667\n"
          ]
        }
      ]
    },
    {
      "cell_type": "markdown",
      "source": [
        "###11. Write a Python program to train a Logistic Regression model and visualize the confusion matrix for binary classification"
      ],
      "metadata": {
        "id": "5CwLzdgut-Zm"
      }
    },
    {
      "cell_type": "code",
      "source": [
        "import numpy as np\n",
        "import pandas as pd\n",
        "import matplotlib.pyplot as plt\n",
        "import seaborn as sns\n",
        "from sklearn.model_selection import train_test_split\n",
        "from sklearn.preprocessing import StandardScaler\n",
        "from sklearn.linear_model import LogisticRegression\n",
        "from sklearn.metrics import confusion_matrix, accuracy_score, classification_report\n",
        "\n",
        "# Load Dataset (Breast Cancer dataset from scikit-learn)\n",
        "from sklearn.datasets import load_breast_cancer\n",
        "data = load_breast_cancer()\n",
        "X = data.data  # Features\n",
        "y = data.target  # Labels (0 = Malignant, 1 = Benign)\n",
        "\n",
        "# Split dataset into Training (80%) and Testing (20%) sets\n",
        "X_train, X_test, y_train, y_test = train_test_split(X, y, test_size=0.2, random_state=42, stratify=y)\n",
        "\n",
        "# Feature Scaling (important for Logistic Regression)\n",
        "scaler = StandardScaler()\n",
        "X_train = scaler.fit_transform(X_train)\n",
        "X_test = scaler.transform(X_test)\n",
        "\n",
        "# Train Logistic Regression Model\n",
        "model = LogisticRegression()\n",
        "model.fit(X_train, y_train)\n",
        "\n",
        "# Make Predictions\n",
        "y_pred = model.predict(X_test)\n",
        "\n",
        "# Evaluate Model\n",
        "accuracy = accuracy_score(y_test, y_pred)\n",
        "conf_matrix = confusion_matrix(y_test, y_pred)\n",
        "\n",
        "# Print Accuracy and Classification Report\n",
        "print(f\"Model Accuracy: {accuracy:.4f}\")\n",
        "print(\"\\nClassification Report:\\n\", classification_report(y_test, y_pred))\n",
        "\n",
        "# Visualize Confusion Matrix\n",
        "plt.figure(figsize=(6, 4))\n",
        "sns.heatmap(conf_matrix, annot=True, fmt=\"d\", cmap=\"Blues\", xticklabels=[\"Malignant\", \"Benign\"], yticklabels=[\"Malignant\", \"Benign\"])\n",
        "plt.xlabel(\"Predicted Label\")\n",
        "plt.ylabel(\"True Label\")\n",
        "plt.title(\"Confusion Matrix\")\n",
        "plt.show()\n"
      ],
      "metadata": {
        "colab": {
          "base_uri": "https://localhost:8080/",
          "height": 618
        },
        "id": "UX_eR5eKt9ak",
        "outputId": "9dafb79a-ba7c-4354-a7de-ef9e080c007a"
      },
      "execution_count": 11,
      "outputs": [
        {
          "output_type": "stream",
          "name": "stdout",
          "text": [
            "Model Accuracy: 0.9825\n",
            "\n",
            "Classification Report:\n",
            "               precision    recall  f1-score   support\n",
            "\n",
            "           0       0.98      0.98      0.98        42\n",
            "           1       0.99      0.99      0.99        72\n",
            "\n",
            "    accuracy                           0.98       114\n",
            "   macro avg       0.98      0.98      0.98       114\n",
            "weighted avg       0.98      0.98      0.98       114\n",
            "\n"
          ]
        },
        {
          "output_type": "display_data",
          "data": {
            "text/plain": [
              "<Figure size 600x400 with 2 Axes>"
            ],
            "image/png": "[encoded data removed]"
          },
          "metadata": {}
        }
      ]
    },
    {
      "cell_type": "markdown",
      "source": [
        "###12. Write a Python program to train a Logistic Regression model and evaluate its performance using Precision, Recall, and F1-Score"
      ],
      "metadata": {
        "id": "RHP2UKVbuYB2"
      }
    },
    {
      "cell_type": "code",
      "source": [
        "import numpy as np\n",
        "import pandas as pd\n",
        "from sklearn.model_selection import train_test_split\n",
        "from sklearn.preprocessing import StandardScaler\n",
        "from sklearn.linear_model import LogisticRegression\n",
        "from sklearn.metrics import precision_score, recall_score, f1_score, classification_report\n",
        "\n",
        "# Load Dataset (Breast Cancer dataset from scikit-learn)\n",
        "from sklearn.datasets import load_breast_cancer\n",
        "data = load_breast_cancer()\n",
        "X = data.data  # Features\n",
        "y = data.target  # Labels (0 = Malignant, 1 = Benign)\n",
        "\n",
        "# Split dataset into Training (80%) and Testing (20%) sets\n",
        "X_train, X_test, y_train, y_test = train_test_split(X, y, test_size=0.2, random_state=42, stratify=y)\n",
        "\n",
        "# Feature Scaling (important for Logistic Regression)\n",
        "scaler = StandardScaler()\n",
        "X_train = scaler.fit_transform(X_train)\n",
        "X_test = scaler.transform(X_test)\n",
        "\n",
        "# Train Logistic Regression Model\n",
        "model = LogisticRegression()\n",
        "model.fit(X_train, y_train)\n",
        "\n",
        "# Make Predictions\n",
        "y_pred = model.predict(X_test)\n",
        "\n",
        "# Calculate Precision, Recall, and F1-Score\n",
        "precision = precision_score(y_test, y_pred)\n",
        "recall = recall_score(y_test, y_pred)\n",
        "f1 = f1_score(y_test, y_pred)\n",
        "\n",
        "# Print Results\n",
        "print(f\"Precision: {precision:.4f}\")\n",
        "print(f\"Recall: {recall:.4f}\")\n",
        "print(f\"F1-Score: {f1:.4f}\")\n",
        "\n",
        "# Print Detailed Classification Report\n",
        "print(\"\\nClassification Report:\\n\", classification_report(y_test, y_pred))\n"
      ],
      "metadata": {
        "colab": {
          "base_uri": "https://localhost:8080/"
        },
        "id": "dc78ikp-ucWn",
        "outputId": "6055df6c-6a01-4b57-ec7c-a2b0dda7d08b"
      },
      "execution_count": 12,
      "outputs": [
        {
          "output_type": "stream",
          "name": "stdout",
          "text": [
            "Precision: 0.9861\n",
            "Recall: 0.9861\n",
            "F1-Score: 0.9861\n",
            "\n",
            "Classification Report:\n",
            "               precision    recall  f1-score   support\n",
            "\n",
            "           0       0.98      0.98      0.98        42\n",
            "           1       0.99      0.99      0.99        72\n",
            "\n",
            "    accuracy                           0.98       114\n",
            "   macro avg       0.98      0.98      0.98       114\n",
            "weighted avg       0.98      0.98      0.98       114\n",
            "\n"
          ]
        }
      ]
    },
    {
      "cell_type": "markdown",
      "source": [
        "###13. Write a Python program to train a Logistic Regression model on imbalanced data and apply class weights to improve model performance"
      ],
      "metadata": {
        "id": "0ntl8PZ_uvYn"
      }
    },
    {
      "cell_type": "code",
      "source": [
        "import numpy as np\n",
        "import pandas as pd\n",
        "from sklearn.model_selection import train_test_split\n",
        "from sklearn.preprocessing import StandardScaler\n",
        "from sklearn.linear_model import LogisticRegression\n",
        "from sklearn.metrics import accuracy_score, precision_score, recall_score, f1_score, classification_report\n",
        "from sklearn.datasets import make_classification\n",
        "import matplotlib.pyplot as plt\n",
        "import seaborn as sns\n",
        "\n",
        "# Generate an imbalanced dataset\n",
        "X, y = make_classification(n_samples=5000, n_features=20, n_classes=2, weights=[0.90, 0.10], random_state=42)\n",
        "\n",
        "# Split dataset into Training (80%) and Testing (20%) sets\n",
        "X_train, X_test, y_train, y_test = train_test_split(X, y, test_size=0.2, random_state=42, stratify=y)\n",
        "\n",
        "# Feature Scaling (important for Logistic Regression)\n",
        "scaler = StandardScaler()\n",
        "X_train = scaler.fit_transform(X_train)\n",
        "X_test = scaler.transform(X_test)\n",
        "\n",
        "# Train Logistic Regression Model with Class Weights\n",
        "model = LogisticRegression(class_weight='balanced', solver='liblinear')\n",
        "model.fit(X_train, y_train)\n",
        "\n",
        "# Make Predictions\n",
        "y_pred = model.predict(X_test)\n",
        "\n",
        "# Evaluate Performance\n",
        "accuracy = accuracy_score(y_test, y_pred)\n",
        "precision = precision_score(y_test, y_pred)\n",
        "recall = recall_score(y_test, y_pred)\n",
        "f1 = f1_score(y_test, y_pred)\n",
        "\n",
        "# Print Metrics\n",
        "print(f\"Accuracy: {accuracy:.4f}\")\n",
        "print(f\"Precision: {precision:.4f}\")\n",
        "print(f\"Recall: {recall:.4f}\")\n",
        "print(f\"F1-Score: {f1:.4f}\")\n",
        "print(\"\\nClassification Report:\\n\", classification_report(y_test, y_pred))\n",
        "\n",
        "# Confusion Matrix Visualization\n",
        "conf_matrix = pd.crosstab(y_test, y_pred, rownames=['Actual'], colnames=['Predicted'])\n",
        "plt.figure(figsize=(6, 4))\n",
        "sns.heatmap(conf_matrix, annot=True, fmt=\"d\", cmap=\"Blues\")\n",
        "plt.title(\"Confusion Matrix\")\n",
        "plt.show()\n"
      ],
      "metadata": {
        "colab": {
          "base_uri": "https://localhost:8080/",
          "height": 670
        },
        "id": "vq9k0JPbu1pF",
        "outputId": "a66c6f61-b33d-43c4-b8ff-23b0f2131777"
      },
      "execution_count": 13,
      "outputs": [
        {
          "output_type": "stream",
          "name": "stdout",
          "text": [
            "Accuracy: 0.8510\n",
            "Precision: 0.4009\n",
            "Recall: 0.8476\n",
            "F1-Score: 0.5443\n",
            "\n",
            "Classification Report:\n",
            "               precision    recall  f1-score   support\n",
            "\n",
            "           0       0.98      0.85      0.91       895\n",
            "           1       0.40      0.85      0.54       105\n",
            "\n",
            "    accuracy                           0.85      1000\n",
            "   macro avg       0.69      0.85      0.73      1000\n",
            "weighted avg       0.92      0.85      0.87      1000\n",
            "\n"
          ]
        },
        {
          "output_type": "display_data",
          "data": {
            "text/plain": [
              "<Figure size 600x400 with 2 Axes>"
            ],
            "image/png": "[encoded data removed]"
          },
          "metadata": {}
        }
      ]
    },
    {
      "cell_type": "markdown",
      "source": [
        "###14. Write a Python program to train Logistic Regression on the Titanic dataset, handle missing values, and evaluate performance"
      ],
      "metadata": {
        "id": "Rld6M6CfvIkb"
      }
    },
    {
      "cell_type": "code",
      "source": [
        "import pandas as pd\n",
        "import numpy as np\n",
        "import seaborn as sns\n",
        "import matplotlib.pyplot as plt\n",
        "from sklearn.model_selection import train_test_split\n",
        "from sklearn.preprocessing import StandardScaler, OneHotEncoder\n",
        "from sklearn.impute import SimpleImputer\n",
        "from sklearn.compose import ColumnTransformer\n",
        "from sklearn.pipeline import Pipeline\n",
        "from sklearn.linear_model import LogisticRegression\n",
        "from sklearn.metrics import accuracy_score, classification_report, confusion_matrix\n",
        "\n",
        "# Load the Titanic dataset\n",
        "url = \"https://raw.githubusercontent.com/datasciencedojo/datasets/master/titanic.csv\"\n",
        "df = pd.read_csv(url)\n",
        "\n",
        "# Select relevant features\n",
        "features = ['Pclass', 'Sex', 'Age', 'SibSp', 'Parch', 'Fare', 'Embarked']\n",
        "target = 'Survived'\n",
        "df = df[features + [target]]\n",
        "\n",
        "# Handle missing values\n",
        "df['Age'].fillna(df['Age'].median(), inplace=True)  # Fill missing Age with median\n",
        "df['Embarked'].fillna(df['Embarked'].mode()[0], inplace=True)  # Fill missing Embarked with mode\n",
        "\n",
        "# Define Preprocessing Pipeline\n",
        "numeric_features = ['Age', 'SibSp', 'Parch', 'Fare']\n",
        "categorical_features = ['Pclass', 'Sex', 'Embarked']\n",
        "\n",
        "numeric_transformer = Pipeline(steps=[\n",
        "    ('imputer', SimpleImputer(strategy='median')),\n",
        "    ('scaler', StandardScaler())\n",
        "])\n",
        "\n",
        "categorical_transformer = Pipeline(steps=[\n",
        "    ('encoder', OneHotEncoder(handle_unknown='ignore'))\n",
        "])\n",
        "\n",
        "preprocessor = ColumnTransformer(transformers=[\n",
        "    ('num', numeric_transformer, numeric_features),\n",
        "    ('cat', categorical_transformer, categorical_features)\n",
        "])\n",
        "\n",
        "# Split data into train and test sets\n",
        "X = df.drop(columns=[target])\n",
        "y = df[target]\n",
        "X_train, X_test, y_train, y_test = train_test_split(X, y, test_size=0.2, random_state=42, stratify=y)\n",
        "\n",
        "# Create a pipeline with Logistic Regression\n",
        "model = Pipeline(steps=[\n",
        "    ('preprocessor', preprocessor),\n",
        "    ('classifier', LogisticRegression(solver='liblinear'))\n",
        "])\n",
        "\n",
        "# Train the model\n",
        "model.fit(X_train, y_train)\n",
        "\n",
        "# Make predictions\n",
        "y_pred = model.predict(X_test)\n",
        "\n",
        "# Evaluate Performance\n",
        "accuracy = accuracy_score(y_test, y_pred)\n",
        "print(f\"Model Accuracy: {accuracy:.4f}\")\n",
        "print(\"\\nClassification Report:\\n\", classification_report(y_test, y_pred))\n",
        "\n",
        "# Confusion Matrix\n",
        "conf_matrix = confusion_matrix(y_test, y_pred)\n",
        "plt.figure(figsize=(6, 4))\n",
        "sns.heatmap(conf_matrix, annot=True, fmt=\"d\", cmap=\"Blues\", xticklabels=['Not Survived', 'Survived'], yticklabels=['Not Survived', 'Survived'])\n",
        "plt.xlabel(\"Predicted Label\")\n",
        "plt.ylabel(\"True Label\")\n",
        "plt.title(\"Confusion Matrix\")\n",
        "plt.show()\n"
      ],
      "metadata": {
        "colab": {
          "base_uri": "https://localhost:8080/",
          "height": 881
        },
        "id": "BxoquP_xvHYc",
        "outputId": "f8e18f61-9c8d-4ab9-f112-b0144f1587ad"
      },
      "execution_count": 14,
      "outputs": [
        {
          "output_type": "stream",
          "name": "stderr",
          "text": [
            "<ipython-input-14-62484038c070>:23: FutureWarning: A value is trying to be set on a copy of a DataFrame or Series through chained assignment using an inplace method.\n",
            "The behavior will change in pandas 3.0. This inplace method will never work because the intermediate object on which we are setting values always behaves as a copy.\n",
            "\n",
            "For example, when doing 'df[col].method(value, inplace=True)', try using 'df.method({col: value}, inplace=True)' or df[col] = df[col].method(value) instead, to perform the operation inplace on the original object.\n",
            "\n",
            "\n",
            "  df['Age'].fillna(df['Age'].median(), inplace=True)  # Fill missing Age with median\n",
            "<ipython-input-14-62484038c070>:24: FutureWarning: A value is trying to be set on a copy of a DataFrame or Series through chained assignment using an inplace method.\n",
            "The behavior will change in pandas 3.0. This inplace method will never work because the intermediate object on which we are setting values always behaves as a copy.\n",
            "\n",
            "For example, when doing 'df[col].method(value, inplace=True)', try using 'df.method({col: value}, inplace=True)' or df[col] = df[col].method(value) instead, to perform the operation inplace on the original object.\n",
            "\n",
            "\n",
            "  df['Embarked'].fillna(df['Embarked'].mode()[0], inplace=True)  # Fill missing Embarked with mode\n"
          ]
        },
        {
          "output_type": "stream",
          "name": "stdout",
          "text": [
            "Model Accuracy: 0.8045\n",
            "\n",
            "Classification Report:\n",
            "               precision    recall  f1-score   support\n",
            "\n",
            "           0       0.81      0.89      0.85       110\n",
            "           1       0.79      0.67      0.72        69\n",
            "\n",
            "    accuracy                           0.80       179\n",
            "   macro avg       0.80      0.78      0.79       179\n",
            "weighted avg       0.80      0.80      0.80       179\n",
            "\n"
          ]
        },
        {
          "output_type": "display_data",
          "data": {
            "text/plain": [
              "<Figure size 600x400 with 2 Axes>"
            ],
            "image/png": "[encoded data removed]"
          },
          "metadata": {}
        }
      ]
    },
    {
      "cell_type": "markdown",
      "source": [
        "###15. Write a Python program to apply feature scaling (Standardization) before training a Logistic Regression model. Evaluate its accuracy and compare results with and without scaling"
      ],
      "metadata": {
        "id": "2cpRsv-cvter"
      }
    },
    {
      "cell_type": "code",
      "source": [
        "import numpy as np\n",
        "import pandas as pd\n",
        "from sklearn.model_selection import train_test_split\n",
        "from sklearn.preprocessing import StandardScaler\n",
        "from sklearn.linear_model import LogisticRegression\n",
        "from sklearn.metrics import accuracy_score, classification_report\n",
        "\n",
        "# Load Dataset (Breast Cancer dataset from scikit-learn)\n",
        "from sklearn.datasets import load_breast_cancer\n",
        "data = load_breast_cancer()\n",
        "X = data.data  # Features\n",
        "y = data.target  # Labels (0 = Malignant, 1 = Benign)\n",
        "\n",
        "# Split dataset into Training (80%) and Testing (20%) sets\n",
        "X_train, X_test, y_train, y_test = train_test_split(X, y, test_size=0.2, random_state=42, stratify=y)\n",
        "\n",
        "### WITHOUT FEATURE SCALING\n",
        "model_no_scaling = LogisticRegression(max_iter=1000)\n",
        "model_no_scaling.fit(X_train, y_train)\n",
        "y_pred_no_scaling = model_no_scaling.predict(X_test)\n",
        "accuracy_no_scaling = accuracy_score(y_test, y_pred_no_scaling)\n",
        "\n",
        "### WITH FEATURE SCALING\n",
        "scaler = StandardScaler()\n",
        "X_train_scaled = scaler.fit_transform(X_train)\n",
        "X_test_scaled = scaler.transform(X_test)\n",
        "\n",
        "model_with_scaling = LogisticRegression(max_iter=1000)\n",
        "model_with_scaling.fit(X_train_scaled, y_train)\n",
        "y_pred_with_scaling = model_with_scaling.predict(X_test_scaled)\n",
        "accuracy_with_scaling = accuracy_score(y_test, y_pred_with_scaling)\n",
        "\n",
        "# Print Accuracy Comparison\n",
        "print(f\"Accuracy WITHOUT Scaling: {accuracy_no_scaling:.4f}\")\n",
        "print(f\"Accuracy WITH Scaling: {accuracy_with_scaling:.4f}\\n\")\n",
        "\n",
        "# Print Classification Reports\n",
        "print(\"Classification Report WITHOUT Scaling:\\n\", classification_report(y_test, y_pred_no_scaling))\n",
        "print(\"Classification Report WITH Scaling:\\n\", classification_report(y_test, y_pred_with_scaling))\n"
      ],
      "metadata": {
        "colab": {
          "base_uri": "https://localhost:8080/"
        },
        "id": "mMd2C5GBv5l1",
        "outputId": "f87467b6-0bf0-4931-8170-b1cd608d1acf"
      },
      "execution_count": 15,
      "outputs": [
        {
          "output_type": "stream",
          "name": "stdout",
          "text": [
            "Accuracy WITHOUT Scaling: 0.9561\n",
            "Accuracy WITH Scaling: 0.9825\n",
            "\n",
            "Classification Report WITHOUT Scaling:\n",
            "               precision    recall  f1-score   support\n",
            "\n",
            "           0       0.95      0.93      0.94        42\n",
            "           1       0.96      0.97      0.97        72\n",
            "\n",
            "    accuracy                           0.96       114\n",
            "   macro avg       0.96      0.95      0.95       114\n",
            "weighted avg       0.96      0.96      0.96       114\n",
            "\n",
            "Classification Report WITH Scaling:\n",
            "               precision    recall  f1-score   support\n",
            "\n",
            "           0       0.98      0.98      0.98        42\n",
            "           1       0.99      0.99      0.99        72\n",
            "\n",
            "    accuracy                           0.98       114\n",
            "   macro avg       0.98      0.98      0.98       114\n",
            "weighted avg       0.98      0.98      0.98       114\n",
            "\n"
          ]
        },
        {
          "output_type": "stream",
          "name": "stderr",
          "text": [
            "/usr/local/lib/python3.11/dist-packages/sklearn/linear_model/_logistic.py:465: ConvergenceWarning: lbfgs failed to converge (status=1):\n",
            "STOP: TOTAL NO. of ITERATIONS REACHED LIMIT.\n",
            "\n",
            "Increase the number of iterations (max_iter) or scale the data as shown in:\n",
            "    https://scikit-learn.org/stable/modules/preprocessing.html\n",
            "Please also refer to the documentation for alternative solver options:\n",
            "    https://scikit-learn.org/stable/modules/linear_model.html#logistic-regression\n",
            "  n_iter_i = _check_optimize_result(\n"
          ]
        }
      ]
    },
    {
      "cell_type": "markdown",
      "source": [
        "###16. Write a Python program to train Logistic Regression and evaluate its performance using ROC-AUC score"
      ],
      "metadata": {
        "id": "BIStY72fwHT8"
      }
    },
    {
      "cell_type": "code",
      "source": [
        "import numpy as np\n",
        "import pandas as pd\n",
        "import matplotlib.pyplot as plt\n",
        "import seaborn as sns\n",
        "from sklearn.model_selection import train_test_split\n",
        "from sklearn.preprocessing import StandardScaler\n",
        "from sklearn.linear_model import LogisticRegression\n",
        "from sklearn.metrics import roc_auc_score, roc_curve, accuracy_score, classification_report\n",
        "from sklearn.datasets import load_breast_cancer\n",
        "\n",
        "# Load Breast Cancer dataset (Binary Classification: Malignant (0) vs. Benign (1))\n",
        "data = load_breast_cancer()\n",
        "X = data.data  # Features\n",
        "y = data.target  # Labels (0 = Malignant, 1 = Benign)\n",
        "\n",
        "# Split dataset into Training (80%) and Testing (20%) sets\n",
        "X_train, X_test, y_train, y_test = train_test_split(X, y, test_size=0.2, random_state=42, stratify=y)\n",
        "\n",
        "# Feature Scaling (Standardization)\n",
        "scaler = StandardScaler()\n",
        "X_train_scaled = scaler.fit_transform(X_train)\n",
        "X_test_scaled = scaler.transform(X_test)\n",
        "\n",
        "# Train Logistic Regression Model\n",
        "model = LogisticRegression()\n",
        "model.fit(X_train_scaled, y_train)\n",
        "\n",
        "# Make Predictions (probabilities for ROC-AUC)\n",
        "y_prob = model.predict_proba(X_test_scaled)[:, 1]  # Get probability of class 1\n",
        "\n",
        "# Evaluate Performance\n",
        "roc_auc = roc_auc_score(y_test, y_prob)\n",
        "accuracy = accuracy_score(y_test, model.predict(X_test_scaled))\n",
        "\n",
        "print(f\"Model Accuracy: {accuracy:.4f}\")\n",
        "print(f\"ROC-AUC Score: {roc_auc:.4f}\")\n",
        "print(\"\\nClassification Report:\\n\", classification_report(y_test, model.predict(X_test_scaled)))\n",
        "\n",
        "# Plot ROC Curve\n",
        "fpr, tpr, _ = roc_curve(y_test, y_prob)\n",
        "plt.figure(figsize=(6, 4))\n",
        "plt.plot(fpr, tpr, color='blue', label=f'ROC Curve (AUC = {roc_auc:.4f})')\n",
        "plt.plot([0, 1], [0, 1], linestyle='--', color='gray')  # Diagonal line (random model)\n",
        "plt.xlabel(\"False Positive Rate\")\n",
        "plt.ylabel(\"True Positive Rate\")\n",
        "plt.title(\"ROC Curve\")\n",
        "plt.legend()\n",
        "plt.show()\n"
      ],
      "metadata": {
        "colab": {
          "base_uri": "https://localhost:8080/",
          "height": 636
        },
        "id": "zvFKPAmSwMAA",
        "outputId": "dba7d01b-f12d-4a16-cf61-38eca3b4ba4a"
      },
      "execution_count": 16,
      "outputs": [
        {
          "output_type": "stream",
          "name": "stdout",
          "text": [
            "Model Accuracy: 0.9825\n",
            "ROC-AUC Score: 0.9954\n",
            "\n",
            "Classification Report:\n",
            "               precision    recall  f1-score   support\n",
            "\n",
            "           0       0.98      0.98      0.98        42\n",
            "           1       0.99      0.99      0.99        72\n",
            "\n",
            "    accuracy                           0.98       114\n",
            "   macro avg       0.98      0.98      0.98       114\n",
            "weighted avg       0.98      0.98      0.98       114\n",
            "\n"
          ]
        },
        {
          "output_type": "display_data",
          "data": {
            "text/plain": [
              "<Figure size 600x400 with 1 Axes>"
            ],
            "image/png": "[encoded data removed]"
          },
          "metadata": {}
        }
      ]
    },
    {
      "cell_type": "markdown",
      "source": [
        "###17. Write a Python program to train Logistic Regression using a custom learning rate (C=0.5) and evaluate accuracy"
      ],
      "metadata": {
        "id": "CDKu3QbTwkMl"
      }
    },
    {
      "cell_type": "code",
      "source": [
        "import numpy as np\n",
        "import pandas as pd\n",
        "from sklearn.model_selection import train_test_split\n",
        "from sklearn.preprocessing import StandardScaler\n",
        "from sklearn.linear_model import LogisticRegression\n",
        "from sklearn.metrics import accuracy_score, classification_report\n",
        "from sklearn.datasets import load_breast_cancer\n",
        "\n",
        "# Load Breast Cancer dataset (Binary Classification: Malignant (0) vs. Benign (1))\n",
        "data = load_breast_cancer()\n",
        "X = data.data  # Features\n",
        "y = data.target  # Labels (0 = Malignant, 1 = Benign)\n",
        "\n",
        "# Split dataset into Training (80%) and Testing (20%) sets\n",
        "X_train, X_test, y_train, y_test = train_test_split(X, y, test_size=0.2, random_state=42, stratify=y)\n",
        "\n",
        "# Feature Scaling (Standardization)\n",
        "scaler = StandardScaler()\n",
        "X_train_scaled = scaler.fit_transform(X_train)\n",
        "X_test_scaled = scaler.transform(X_test)\n",
        "\n",
        "# Train Logistic Regression Model with Custom Regularization Strength (C=0.5)\n",
        "model = LogisticRegression(C=0.5, max_iter=1000)\n",
        "model.fit(X_train_scaled, y_train)\n",
        "\n",
        "# Make Predictions\n",
        "y_pred = model.predict(X_test_scaled)\n",
        "\n",
        "# Evaluate Performance\n",
        "accuracy = accuracy_score(y_test, y_pred)\n",
        "print(f\"Model Accuracy: {accuracy:.4f}\\n\")\n",
        "print(\"Classification Report:\\n\", classification_report(y_test, y_pred))\n"
      ],
      "metadata": {
        "colab": {
          "base_uri": "https://localhost:8080/"
        },
        "id": "N85bkxkLwoiz",
        "outputId": "b06a21c5-8c36-4ec8-f072-6bc36d170d63"
      },
      "execution_count": 17,
      "outputs": [
        {
          "output_type": "stream",
          "name": "stdout",
          "text": [
            "Model Accuracy: 0.9825\n",
            "\n",
            "Classification Report:\n",
            "               precision    recall  f1-score   support\n",
            "\n",
            "           0       0.98      0.98      0.98        42\n",
            "           1       0.99      0.99      0.99        72\n",
            "\n",
            "    accuracy                           0.98       114\n",
            "   macro avg       0.98      0.98      0.98       114\n",
            "weighted avg       0.98      0.98      0.98       114\n",
            "\n"
          ]
        }
      ]
    },
    {
      "cell_type": "markdown",
      "source": [
        "###18. Write a Python program to train Logistic Regression and identify important features based on model coefficients"
      ],
      "metadata": {
        "id": "cM_kgMyR40ls"
      }
    },
    {
      "cell_type": "code",
      "source": [
        "import numpy as np\n",
        "import pandas as pd\n",
        "import matplotlib.pyplot as plt\n",
        "from sklearn.model_selection import train_test_split\n",
        "from sklearn.preprocessing import StandardScaler\n",
        "from sklearn.linear_model import LogisticRegression\n",
        "from sklearn.datasets import load_breast_cancer\n",
        "\n",
        "# Load Breast Cancer dataset\n",
        "data = load_breast_cancer()\n",
        "X = pd.DataFrame(data.data, columns=data.feature_names)  # Convert to DataFrame\n",
        "y = data.target  # Labels (0 = Malignant, 1 = Benign)\n",
        "\n",
        "# Split dataset into Training (80%) and Testing (20%) sets\n",
        "X_train, X_test, y_train, y_test = train_test_split(X, y, test_size=0.2, random_state=42, stratify=y)\n",
        "\n",
        "# Feature Scaling (Standardization)\n",
        "scaler = StandardScaler()\n",
        "X_train_scaled = scaler.fit_transform(X_train)\n",
        "X_test_scaled = scaler.transform(X_test)\n",
        "\n",
        "# Train Logistic Regression Model\n",
        "model = LogisticRegression(max_iter=1000)\n",
        "model.fit(X_train_scaled, y_train)\n",
        "\n",
        "# Extract Feature Importance (Absolute Coefficients)\n",
        "feature_importance = np.abs(model.coef_[0])\n",
        "feature_names = X.columns\n",
        "\n",
        "# Create a DataFrame for Feature Importance\n",
        "importance_df = pd.DataFrame({\"Feature\": feature_names, \"Importance\": feature_importance})\n",
        "importance_df = importance_df.sort_values(by=\"Importance\", ascending=False)\n",
        "\n",
        "# Print Top Important Features\n",
        "print(\"Top 10 Important Features in Logistic Regression Model:\\n\")\n",
        "print(importance_df.head(10))\n",
        "\n",
        "# Plot Feature Importance\n",
        "plt.figure(figsize=(6, 4))\n",
        "plt.barh(importance_df[\"Feature\"][:10], importance_df[\"Importance\"][:10], color='blue')\n",
        "plt.xlabel(\"Importance Score\")\n",
        "plt.ylabel(\"Feature Name\")\n",
        "plt.title(\"Top 10 Important Features in Logistic Regression\")\n",
        "plt.gca().invert_yaxis()  # Highest at top\n",
        "plt.show()\n"
      ],
      "metadata": {
        "colab": {
          "base_uri": "https://localhost:8080/",
          "height": 636
        },
        "id": "US_CvuSY46iY",
        "outputId": "c33c79e8-ca77-4c2f-a723-ddabe305a775"
      },
      "execution_count": 19,
      "outputs": [
        {
          "output_type": "stream",
          "name": "stdout",
          "text": [
            "Top 10 Important Features in Logistic Regression Model:\n",
            "\n",
            "                 Feature  Importance\n",
            "21         worst texture    1.255088\n",
            "10          radius error    1.082965\n",
            "27  worst concave points    0.953686\n",
            "23            worst area    0.947756\n",
            "20          worst radius    0.947616\n",
            "28        worst symmetry    0.939181\n",
            "13            area error    0.929104\n",
            "26       worst concavity    0.823151\n",
            "22       worst perimeter    0.763220\n",
            "24      worst smoothness    0.746625\n"
          ]
        },
        {
          "output_type": "display_data",
          "data": {
            "text/plain": [
              "<Figure size 600x400 with 1 Axes>"
            ],
            "image/png": "[encoded data removed]"
          },
          "metadata": {}
        }
      ]
    },
    {
      "cell_type": "markdown",
      "source": [
        "###19. Write a Python program to train Logistic Regression and evaluate its performance using Cohen’s Kappa Score"
      ],
      "metadata": {
        "id": "8__X0JiD5zLD"
      }
    },
    {
      "cell_type": "code",
      "source": [
        "import numpy as np\n",
        "import pandas as pd\n",
        "from sklearn.model_selection import train_test_split\n",
        "from sklearn.preprocessing import StandardScaler\n",
        "from sklearn.linear_model import LogisticRegression\n",
        "from sklearn.metrics import cohen_kappa_score, accuracy_score, classification_report\n",
        "from sklearn.datasets import load_breast_cancer\n",
        "\n",
        "# Load Breast Cancer dataset (Binary Classification: Malignant (0) vs. Benign (1))\n",
        "data = load_breast_cancer()\n",
        "X = data.data  # Features\n",
        "y = data.target  # Labels (0 = Malignant, 1 = Benign)\n",
        "\n",
        "# Split dataset into Training (80%) and Testing (20%) sets\n",
        "X_train, X_test, y_train, y_test = train_test_split(X, y, test_size=0.2, random_state=42, stratify=y)\n",
        "\n",
        "# Feature Scaling (Standardization)\n",
        "scaler = StandardScaler()\n",
        "X_train_scaled = scaler.fit_transform(X_train)\n",
        "X_test_scaled = scaler.transform(X_test)\n",
        "\n",
        "# Train Logistic Regression Model\n",
        "model = LogisticRegression(max_iter=1000)\n",
        "model.fit(X_train_scaled, y_train)\n",
        "\n",
        "# Make Predictions\n",
        "y_pred = model.predict(X_test_scaled)\n",
        "\n",
        "# Evaluate Performance\n",
        "accuracy = accuracy_score(y_test, y_pred)\n",
        "kappa = cohen_kappa_score(y_test, y_pred)\n",
        "\n",
        "print(f\"Model Accuracy: {accuracy:.4f}\")\n",
        "print(f\"Cohen's Kappa Score: {kappa:.4f}\\n\")\n",
        "print(\"Classification Report:\\n\", classification_report(y_test, y_pred))\n"
      ],
      "metadata": {
        "colab": {
          "base_uri": "https://localhost:8080/"
        },
        "id": "onXf2kKF539p",
        "outputId": "1b4727c0-b3fa-43ee-e7ae-cdba5c2e4c7a"
      },
      "execution_count": 20,
      "outputs": [
        {
          "output_type": "stream",
          "name": "stdout",
          "text": [
            "Model Accuracy: 0.9825\n",
            "Cohen's Kappa Score: 0.9623\n",
            "\n",
            "Classification Report:\n",
            "               precision    recall  f1-score   support\n",
            "\n",
            "           0       0.98      0.98      0.98        42\n",
            "           1       0.99      0.99      0.99        72\n",
            "\n",
            "    accuracy                           0.98       114\n",
            "   macro avg       0.98      0.98      0.98       114\n",
            "weighted avg       0.98      0.98      0.98       114\n",
            "\n"
          ]
        }
      ]
    },
    {
      "cell_type": "markdown",
      "source": [
        "###20.Write a Python program to train Logistic Regression and visualize the Precision-Recall Curve for binary classification"
      ],
      "metadata": {
        "id": "ZgJTWIpA6JkY"
      }
    },
    {
      "cell_type": "code",
      "source": [
        "import numpy as np\n",
        "import pandas as pd\n",
        "import matplotlib.pyplot as plt\n",
        "from sklearn.model_selection import train_test_split\n",
        "from sklearn.preprocessing import StandardScaler\n",
        "from sklearn.linear_model import LogisticRegression\n",
        "from sklearn.metrics import precision_recall_curve, auc, average_precision_score\n",
        "from sklearn.datasets import load_breast_cancer\n",
        "\n",
        "# Load Breast Cancer dataset (Binary Classification: Malignant (0) vs. Benign (1))\n",
        "data = load_breast_cancer()\n",
        "X = data.data  # Features\n",
        "y = data.target  # Labels (0 = Malignant, 1 = Benign)\n",
        "\n",
        "# Split dataset into Training (80%) and Testing (20%) sets\n",
        "X_train, X_test, y_train, y_test = train_test_split(X, y, test_size=0.2, random_state=42, stratify=y)\n",
        "\n",
        "# Feature Scaling (Standardization)\n",
        "scaler = StandardScaler()\n",
        "X_train_scaled = scaler.fit_transform(X_train)\n",
        "X_test_scaled = scaler.transform(X_test)\n",
        "\n",
        "# Train Logistic Regression Model\n",
        "model = LogisticRegression(max_iter=1000)\n",
        "model.fit(X_train_scaled, y_train)\n",
        "\n",
        "# Get Prediction Probabilities\n",
        "y_scores = model.decision_function(X_test_scaled)\n",
        "\n",
        "# Compute Precision-Recall Curve\n",
        "precision, recall, _ = precision_recall_curve(y_test, y_scores)\n",
        "pr_auc = auc(recall, precision)  # Compute AUC-PR Score\n",
        "avg_precision = average_precision_score(y_test, y_scores)\n",
        "\n",
        "# Plot Precision-Recall Curve\n",
        "plt.figure(figsize=(6, 4))\n",
        "plt.plot(recall, precision, color=\"blue\", label=f\"PR Curve (AUC = {pr_auc:.4f})\")\n",
        "plt.xlabel(\"Recall\")\n",
        "plt.ylabel(\"Precision\")\n",
        "plt.title(\"Precision-Recall Curve for Logistic Regression\")\n",
        "plt.legend()\n",
        "plt.grid()\n",
        "plt.show()\n",
        "\n",
        "# Print AUC-PR Score\n",
        "print(f\"Average Precision Score: {avg_precision:.4f}\")\n"
      ],
      "metadata": {
        "colab": {
          "base_uri": "https://localhost:8080/",
          "height": 427
        },
        "id": "UDfbeipZ6Lfj",
        "outputId": "d1589bde-adac-4f34-8336-95a102b5e541"
      },
      "execution_count": 22,
      "outputs": [
        {
          "output_type": "display_data",
          "data": {
            "text/plain": [
              "<Figure size 600x400 with 1 Axes>"
            ],
            "image/png": "[encoded data removed]"
          },
          "metadata": {}
        },
        {
          "output_type": "stream",
          "name": "stdout",
          "text": [
            "Average Precision Score: 0.9971\n"
          ]
        }
      ]
    },
    {
      "cell_type": "markdown",
      "source": [
        "###21. Write a Python program to train Logistic Regression with different solvers (liblinear, saga, lbfgs) and compare their accuracy"
      ],
      "metadata": {
        "id": "ypPN4J476Zyr"
      }
    },
    {
      "cell_type": "code",
      "source": [
        "import numpy as np\n",
        "import pandas as pd\n",
        "from sklearn.model_selection import train_test_split\n",
        "from sklearn.preprocessing import StandardScaler\n",
        "from sklearn.linear_model import LogisticRegression\n",
        "from sklearn.metrics import accuracy_score\n",
        "from sklearn.datasets import load_breast_cancer\n",
        "\n",
        "# Load Breast Cancer dataset (Binary Classification: Malignant (0) vs. Benign (1))\n",
        "data = load_breast_cancer()\n",
        "X = data.data  # Features\n",
        "y = data.target  # Labels (0 = Malignant, 1 = Benign)\n",
        "\n",
        "# Split dataset into Training (80%) and Testing (20%) sets\n",
        "X_train, X_test, y_train, y_test = train_test_split(X, y, test_size=0.2, random_state=42, stratify=y)\n",
        "\n",
        "# Feature Scaling (Standardization)\n",
        "scaler = StandardScaler()\n",
        "X_train_scaled = scaler.fit_transform(X_train)\n",
        "X_test_scaled = scaler.transform(X_test)\n",
        "\n",
        "# List of solvers to compare\n",
        "solvers = ['liblinear', 'saga', 'lbfgs']\n",
        "accuracy_results = {}\n",
        "\n",
        "# Train Logistic Regression with different solvers\n",
        "for solver in solvers:\n",
        "    model = LogisticRegression(solver=solver, max_iter=1000)\n",
        "    model.fit(X_train_scaled, y_train)\n",
        "\n",
        "    # Make Predictions\n",
        "    y_pred = model.predict(X_test_scaled)\n",
        "\n",
        "    # Compute Accuracy\n",
        "    accuracy = accuracy_score(y_test, y_pred)\n",
        "    accuracy_results[solver] = accuracy\n",
        "    print(f\"Solver: {solver} → Accuracy: {accuracy:.4f}\")\n",
        "\n",
        "# Display Results\n",
        "print(\"\\nAccuracy Comparison:\")\n",
        "for solver, acc in accuracy_results.items():\n",
        "    print(f\"{solver}: {acc:.4f}\")\n"
      ],
      "metadata": {
        "colab": {
          "base_uri": "https://localhost:8080/"
        },
        "id": "GABCKjlU6VCm",
        "outputId": "dd38427e-954d-4f0c-facd-81472085e8c8"
      },
      "execution_count": 23,
      "outputs": [
        {
          "output_type": "stream",
          "name": "stdout",
          "text": [
            "Solver: liblinear → Accuracy: 0.9825\n",
            "Solver: saga → Accuracy: 0.9825\n",
            "Solver: lbfgs → Accuracy: 0.9825\n",
            "\n",
            "Accuracy Comparison:\n",
            "liblinear: 0.9825\n",
            "saga: 0.9825\n",
            "lbfgs: 0.9825\n"
          ]
        }
      ]
    },
    {
      "cell_type": "markdown",
      "source": [
        "###22. Write a Python program to train Logistic Regression and evaluate its performance using Matthews Correlation Coefficient (MCC)"
      ],
      "metadata": {
        "id": "01RNA9YM6p8d"
      }
    },
    {
      "cell_type": "code",
      "source": [
        "import numpy as np\n",
        "import pandas as pd\n",
        "from sklearn.model_selection import train_test_split\n",
        "from sklearn.preprocessing import StandardScaler\n",
        "from sklearn.linear_model import LogisticRegression\n",
        "from sklearn.metrics import matthews_corrcoef, accuracy_score, classification_report\n",
        "from sklearn.datasets import load_breast_cancer\n",
        "\n",
        "# Load Breast Cancer dataset (Binary Classification: Malignant (0) vs. Benign (1))\n",
        "data = load_breast_cancer()\n",
        "X = data.data  # Features\n",
        "y = data.target  # Labels (0 = Malignant, 1 = Benign)\n",
        "\n",
        "# Split dataset into Training (80%) and Testing (20%) sets\n",
        "X_train, X_test, y_train, y_test = train_test_split(X, y, test_size=0.2, random_state=42, stratify=y)\n",
        "\n",
        "# Feature Scaling (Standardization)\n",
        "scaler = StandardScaler()\n",
        "X_train_scaled = scaler.fit_transform(X_train)\n",
        "X_test_scaled = scaler.transform(X_test)\n",
        "\n",
        "# Train Logistic Regression Model\n",
        "model = LogisticRegression(max_iter=1000)\n",
        "model.fit(X_train_scaled, y_train)\n",
        "\n",
        "# Make Predictions\n",
        "y_pred = model.predict(X_test_scaled)\n",
        "\n",
        "# Evaluate Performance\n",
        "accuracy = accuracy_score(y_test, y_pred)\n",
        "mcc = matthews_corrcoef(y_test, y_pred)\n",
        "\n",
        "print(f\"Model Accuracy: {accuracy:.4f}\")\n",
        "print(f\"Matthews Correlation Coefficient (MCC): {mcc:.4f}\\n\")\n",
        "print(\"Classification Report:\\n\", classification_report(y_test, y_pred))\n"
      ],
      "metadata": {
        "colab": {
          "base_uri": "https://localhost:8080/"
        },
        "id": "VryX98iD6uuk",
        "outputId": "5e61d76c-33e4-4f72-b673-f471b7cd7d0d"
      },
      "execution_count": 24,
      "outputs": [
        {
          "output_type": "stream",
          "name": "stdout",
          "text": [
            "Model Accuracy: 0.9825\n",
            "Matthews Correlation Coefficient (MCC): 0.9623\n",
            "\n",
            "Classification Report:\n",
            "               precision    recall  f1-score   support\n",
            "\n",
            "           0       0.98      0.98      0.98        42\n",
            "           1       0.99      0.99      0.99        72\n",
            "\n",
            "    accuracy                           0.98       114\n",
            "   macro avg       0.98      0.98      0.98       114\n",
            "weighted avg       0.98      0.98      0.98       114\n",
            "\n"
          ]
        }
      ]
    },
    {
      "cell_type": "markdown",
      "source": [
        "###23. Write a Python program to train Logistic Regression on both raw and standardized data. Compare their accuracy to see the impact of feature scaling"
      ],
      "metadata": {
        "id": "gaNz37bM63Vc"
      }
    },
    {
      "cell_type": "code",
      "source": [
        "import numpy as np\n",
        "import pandas as pd\n",
        "from sklearn.model_selection import train_test_split\n",
        "from sklearn.preprocessing import StandardScaler\n",
        "from sklearn.linear_model import LogisticRegression\n",
        "from sklearn.metrics import accuracy_score\n",
        "from sklearn.datasets import load_breast_cancer\n",
        "\n",
        "# Load Breast Cancer dataset (Binary Classification: Malignant (0) vs. Benign (1))\n",
        "data = load_breast_cancer()\n",
        "X = data.data  # Features\n",
        "y = data.target  # Labels (0 = Malignant, 1 = Benign)\n",
        "\n",
        "# Split dataset into Training (80%) and Testing (20%) sets\n",
        "X_train, X_test, y_train, y_test = train_test_split(X, y, test_size=0.2, random_state=42, stratify=y)\n",
        "\n",
        "# Train Logistic Regression on Raw (Unscaled) Data\n",
        "model_raw = LogisticRegression(max_iter=1000)\n",
        "model_raw.fit(X_train, y_train)\n",
        "y_pred_raw = model_raw.predict(X_test)\n",
        "accuracy_raw = accuracy_score(y_test, y_pred_raw)\n",
        "\n",
        "# Standardize Features\n",
        "scaler = StandardScaler()\n",
        "X_train_scaled = scaler.fit_transform(X_train)\n",
        "X_test_scaled = scaler.transform(X_test)\n",
        "\n",
        "# Train Logistic Regression on Standardized Data\n",
        "model_scaled = LogisticRegression(max_iter=1000)\n",
        "model_scaled.fit(X_train_scaled, y_train)\n",
        "y_pred_scaled = model_scaled.predict(X_test_scaled)\n",
        "accuracy_scaled = accuracy_score(y_test, y_pred_scaled)\n",
        "\n",
        "# Compare Accuracy\n",
        "print(f\"Accuracy without Feature Scaling: {accuracy_raw:.4f}\")\n",
        "print(f\"Accuracy with Feature Scaling: {accuracy_scaled:.4f}\")\n"
      ],
      "metadata": {
        "colab": {
          "base_uri": "https://localhost:8080/"
        },
        "id": "iMWk2yLv66ja",
        "outputId": "b6ea9f4f-9364-4497-966c-bd69edb3316a"
      },
      "execution_count": 25,
      "outputs": [
        {
          "output_type": "stream",
          "name": "stdout",
          "text": [
            "Accuracy without Feature Scaling: 0.9561\n",
            "Accuracy with Feature Scaling: 0.9825\n"
          ]
        },
        {
          "output_type": "stream",
          "name": "stderr",
          "text": [
            "/usr/local/lib/python3.11/dist-packages/sklearn/linear_model/_logistic.py:465: ConvergenceWarning: lbfgs failed to converge (status=1):\n",
            "STOP: TOTAL NO. of ITERATIONS REACHED LIMIT.\n",
            "\n",
            "Increase the number of iterations (max_iter) or scale the data as shown in:\n",
            "    https://scikit-learn.org/stable/modules/preprocessing.html\n",
            "Please also refer to the documentation for alternative solver options:\n",
            "    https://scikit-learn.org/stable/modules/linear_model.html#logistic-regression\n",
            "  n_iter_i = _check_optimize_result(\n"
          ]
        }
      ]
    },
    {
      "cell_type": "markdown",
      "source": [
        "###24. Write a Python program to train Logistic Regression and find the optimal C (regularization strength) using cross-validation"
      ],
      "metadata": {
        "id": "OUs4wCXE7Hz6"
      }
    },
    {
      "cell_type": "code",
      "source": [
        "import numpy as np\n",
        "import pandas as pd\n",
        "from sklearn.model_selection import train_test_split, GridSearchCV\n",
        "from sklearn.preprocessing import StandardScaler\n",
        "from sklearn.linear_model import LogisticRegression\n",
        "from sklearn.metrics import accuracy_score\n",
        "from sklearn.datasets import load_breast_cancer\n",
        "\n",
        "# Load Breast Cancer dataset (Binary Classification: Malignant (0) vs. Benign (1))\n",
        "data = load_breast_cancer()\n",
        "X = data.data  # Features\n",
        "y = data.target  # Labels (0 = Malignant, 1 = Benign)\n",
        "\n",
        "# Split dataset into Training (80%) and Testing (20%) sets\n",
        "X_train, X_test, y_train, y_test = train_test_split(X, y, test_size=0.2, random_state=42, stratify=y)\n",
        "\n",
        "# Standardize Features (Feature Scaling)\n",
        "scaler = StandardScaler()\n",
        "X_train_scaled = scaler.fit_transform(X_train)\n",
        "X_test_scaled = scaler.transform(X_test)\n",
        "\n",
        "# Define Logistic Regression model\n",
        "model = LogisticRegression(max_iter=1000, solver='liblinear')\n",
        "\n",
        "# Define hyperparameter grid for C (inverse of regularization strength)\n",
        "param_grid = {'C': np.logspace(-4, 4, 10)}  # Test C values from 10^(-4) to 10^(4)\n",
        "\n",
        "# Perform Grid Search with 5-Fold Cross-Validation\n",
        "grid_search = GridSearchCV(model, param_grid, cv=5, scoring='accuracy', n_jobs=-1)\n",
        "grid_search.fit(X_train_scaled, y_train)\n",
        "\n",
        "# Get best C value and corresponding accuracy\n",
        "best_C = grid_search.best_params_['C']\n",
        "best_score = grid_search.best_score_\n",
        "\n",
        "# Train final model using best C value\n",
        "best_model = LogisticRegression(C=best_C, max_iter=1000, solver='liblinear')\n",
        "best_model.fit(X_train_scaled, y_train)\n",
        "\n",
        "# Evaluate on test data\n",
        "y_pred = best_model.predict(X_test_scaled)\n",
        "test_accuracy = accuracy_score(y_test, y_pred)\n",
        "\n",
        "# Display Results\n",
        "print(f\"Optimal C (Regularization Strength): {best_C}\")\n",
        "print(f\"Cross-Validation Accuracy: {best_score:.4f}\")\n",
        "print(f\"Test Accuracy: {test_accuracy:.4f}\")\n"
      ],
      "metadata": {
        "colab": {
          "base_uri": "https://localhost:8080/"
        },
        "id": "Ianuxu4X7Jp7",
        "outputId": "aafde896-6c47-4a49-e3db-f4375b5e39ac"
      },
      "execution_count": 26,
      "outputs": [
        {
          "output_type": "stream",
          "name": "stdout",
          "text": [
            "Optimal C (Regularization Strength): 0.046415888336127774\n",
            "Cross-Validation Accuracy: 0.9802\n",
            "Test Accuracy: 0.9825\n"
          ]
        }
      ]
    },
    {
      "cell_type": "markdown",
      "source": [
        "###25. Write a Python program to train Logistic Regression, save the trained model using joblib, and load it again to make predictions"
      ],
      "metadata": {
        "id": "SXFDMas-7XOA"
      }
    },
    {
      "cell_type": "code",
      "source": [
        "import numpy as np\n",
        "import pandas as pd\n",
        "import joblib  # For saving and loading the model\n",
        "from sklearn.model_selection import train_test_split\n",
        "from sklearn.preprocessing import StandardScaler\n",
        "from sklearn.linear_model import LogisticRegression\n",
        "from sklearn.metrics import accuracy_score\n",
        "from sklearn.datasets import load_breast_cancer\n",
        "\n",
        "# Load Breast Cancer dataset (Binary Classification: Malignant (0) vs. Benign (1))\n",
        "data = load_breast_cancer()\n",
        "X = data.data  # Features\n",
        "y = data.target  # Labels (0 = Malignant, 1 = Benign)\n",
        "\n",
        "# Split dataset into Training (80%) and Testing (20%) sets\n",
        "X_train, X_test, y_train, y_test = train_test_split(X, y, test_size=0.2, random_state=42, stratify=y)\n",
        "\n",
        "# Standardize Features (Feature Scaling)\n",
        "scaler = StandardScaler()\n",
        "X_train_scaled = scaler.fit_transform(X_train)\n",
        "X_test_scaled = scaler.transform(X_test)\n",
        "\n",
        "# Train Logistic Regression Model\n",
        "model = LogisticRegression(max_iter=1000)\n",
        "model.fit(X_train_scaled, y_train)\n",
        "\n",
        "# Save the trained model using joblib\n",
        "joblib.dump(model, \"logistic_regression_model.pkl\")\n",
        "joblib.dump(scaler, \"scaler.pkl\")  # Save the scaler for future use\n",
        "\n",
        "print(\"Model and scaler saved successfully!\")\n",
        "\n",
        "# Load the saved model and scaler\n",
        "loaded_model = joblib.load(\"logistic_regression_model.pkl\")\n",
        "loaded_scaler = joblib.load(\"scaler.pkl\")\n",
        "\n",
        "# Make predictions using the loaded model\n",
        "X_test_scaled_loaded = loaded_scaler.transform(X_test)  # Scale test data\n",
        "y_pred_loaded = loaded_model.predict(X_test_scaled_loaded)\n",
        "\n",
        "# Evaluate model accuracy\n",
        "accuracy_loaded = accuracy_score(y_test, y_pred_loaded)\n",
        "print(f\"Accuracy of Loaded Model: {accuracy_loaded:.4f}\")\n"
      ],
      "metadata": {
        "colab": {
          "base_uri": "https://localhost:8080/"
        },
        "id": "8C2jY4AV7cJ6",
        "outputId": "a3b474b9-19d9-42a4-c0f7-65185b900266"
      },
      "execution_count": 27,
      "outputs": [
        {
          "output_type": "stream",
          "name": "stdout",
          "text": [
            "Model and scaler saved successfully!\n",
            "Accuracy of Loaded Model: 0.9825\n"
          ]
        }
      ]
    }
  ]
}